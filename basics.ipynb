{
 "cells": [
  {
   "cell_type": "code",
   "execution_count": 1,
   "metadata": {},
   "outputs": [
    {
     "data": {
      "text/plain": [
       "14"
      ]
     },
     "execution_count": 1,
     "metadata": {},
     "output_type": "execute_result"
    }
   ],
   "source": [
    "1239 + 290304 # expression\n",
    "12 -10\n",
    "2*7"
   ]
  },
  {
   "cell_type": "markdown",
   "metadata": {},
   "source": [
    "operaters\n",
    "- Arithmetic\n",
    "- logical\n",
    "- comparison\n",
    "- identity\n",
    "- membership"
   ]
  },
  {
   "cell_type": "markdown",
   "metadata": {},
   "source": [
    "precedence of arithmetic operator -- * / // ** %\n",
    " +-"
   ]
  },
  {
   "cell_type": "code",
   "execution_count": null,
   "metadata": {},
   "outputs": [],
   "source": [
    "x = 12\n",
    "y = 109.23\n",
    "a= 3 + 2*y"
   ]
  },
  {
   "cell_type": "markdown",
   "metadata": {},
   "source": [
    "x +=2   #assignment\n",
    "-=\n",
    "*=\n",
    "/= etc\n"
   ]
  },
  {
   "cell_type": "code",
   "execution_count": null,
   "metadata": {},
   "outputs": [],
   "source": [
    "print(\"2*3 = 6\")\n",
    "x = 23\n",
    "y = 12\n",
    "print(x>y)\n",
    "print(y<x)\n",
    "print(x!=y)"
   ]
  },
  {
   "cell_type": "code",
   "execution_count": null,
   "metadata": {},
   "outputs": [],
   "source": [
    "#logical Operator\n",
    "print(x>y and y<30) \n",
    "print(x>12 or y<60)\n",
    "print(not x <23)"
   ]
  },
  {
   "cell_type": "code",
   "execution_count": null,
   "metadata": {},
   "outputs": [],
   "source": [
    "#identity operator\n",
    "# -is\n",
    "x = 12\n",
    "y = 13\n",
    "print(x is y)\n"
   ]
  },
  {
   "cell_type": "code",
   "execution_count": 24,
   "metadata": {},
   "outputs": [
    {
     "name": "stdout",
     "output_type": "stream",
     "text": [
      "True\n",
      "True\n"
     ]
    }
   ],
   "source": [
    "#membership operator\n",
    "# in // not in\n",
    "b = [1,2,3,4,5,6,7]\n",
    "print(3 in b)\n",
    "color = ['red', 'yellow']\n",
    "print('red' in color)\n"
   ]
  },
  {
   "cell_type": "code",
   "execution_count": null,
   "metadata": {},
   "outputs": [],
   "source": []
  }
 ],
 "metadata": {
  "kernelspec": {
   "display_name": "base",
   "language": "python",
   "name": "python3"
  },
  "language_info": {
   "codemirror_mode": {
    "name": "ipython",
    "version": 3
   },
   "file_extension": ".py",
   "mimetype": "text/x-python",
   "name": "python",
   "nbconvert_exporter": "python",
   "pygments_lexer": "ipython3",
   "version": "3.11.4"
  },
  "orig_nbformat": 4
 },
 "nbformat": 4,
 "nbformat_minor": 2
}
