{
 "cells": [
  {
   "cell_type": "markdown",
   "metadata": {},
   "source": [
    "### objective\n",
    "- class\n",
    "- object\n",
    "- instance method\n",
    "- data class\n",
    "- oops\n",
    "- constructor\n"
   ]
  },
  {
   "cell_type": "code",
   "execution_count": 1,
   "metadata": {},
   "outputs": [],
   "source": [
    "class One:\n",
    "    pass\n"
   ]
  },
  {
   "cell_type": "code",
   "execution_count": 9,
   "metadata": {},
   "outputs": [],
   "source": [
    "class Student:\n",
    "    roll_no = 0\n",
    "    Name = \"\"\n",
    "    section = \"\"\n",
    "    def display(self):\n",
    "        print(\"I am a Student\")"
   ]
  },
  {
   "cell_type": "code",
   "execution_count": 10,
   "metadata": {},
   "outputs": [
    {
     "name": "stdout",
     "output_type": "stream",
     "text": [
      "I am a Student\n"
     ]
    }
   ],
   "source": [
    "# help(Student)\n",
    "s1 = Student()\n",
    "s1.display()\n",
    "s1.roll_no = 12\n",
    "s1.Name = \"Ajat\"\n",
    "s1.section = \"q\"\n"
   ]
  },
  {
   "cell_type": "code",
   "execution_count": 33,
   "metadata": {},
   "outputs": [
    {
     "name": "stdout",
     "output_type": "stream",
     "text": [
      "Bottle: Material Glass and Content is  Shake and brand Milton and 1 L of capacity\n",
      "Bottle: Material Glass and Content is  wine and brand Xyz and 1 L of capacity\n"
     ]
    }
   ],
   "source": [
    "# Example 2\n",
    "class Bottle():\n",
    "    def __init__(self,material,content,capacity):\n",
    "        self.material = material   #instance variable\n",
    "        self.content = content\n",
    "        self.capacity = capacity    \n",
    "    def brand(self,company):\n",
    "        self.company = company\n",
    "    def bottle(self):\n",
    "        print(f\"Bottle: Material {self.material} and Content is  {self.content} and brand {self.company} and {self.capacity} L of capacity\")\n",
    "b1 = Bottle(\"Glass\",\"Shake\",1)\n",
    "b2 = Bottle(\"Glass\",\"wine\",1)\n",
    "b1.brand(\"Milton\")\n",
    "b2.brand(\"Xyz\")\n",
    "b1.bottle()\n",
    "b2.bottle()\n",
    "        \n",
    "        "
   ]
  },
  {
   "cell_type": "code",
   "execution_count": 34,
   "metadata": {},
   "outputs": [
    {
     "name": "stdout",
     "output_type": "stream",
     "text": [
      "Operation performed is addition and your result 7\n",
      "Operation performed is multiplication and your result 12\n"
     ]
    }
   ],
   "source": [
    "class Calculator:\n",
    "    def __init__(self,num1,num2):\n",
    "        self.num1 = num1\n",
    "        self.num2 = num2\n",
    "    def multiply(self):\n",
    "        mult = self.num1*self.num2\n",
    "        print(f\"Operation performed is multiplication and your result {mult}\")\n",
    "    def divide(self):\n",
    "        div = self.num1/self.num2\n",
    "        print(f\"Operation performed is divide and your result {div}\")\n",
    "    def addition(self):\n",
    "        add = self.num1+self.num2\n",
    "        print(f\"Operation performed is addition and your result {add}\")\n",
    "    def substract(self):\n",
    "        sub = self.num1-self.num2\n",
    "        print(f\"Operation performed is substraction and your result {sub}\")\n",
    "    def exponent(self):\n",
    "        expo = self.num1**self.num2\n",
    "        print(f\"Operation performed is exponential and your result {expo}\")\n",
    "C1 = Calculator(3,4)\n",
    "C1.addition()\n",
    "C1.multiply()\n",
    "        "
   ]
  },
  {
   "cell_type": "code",
   "execution_count": 35,
   "metadata": {},
   "outputs": [
    {
     "name": "stdout",
     "output_type": "stream",
     "text": [
      "Bottle: Material Glass and Content is  Shake and brand Milton and 1 L of capacity\n"
     ]
    }
   ],
   "source": [
    "# b1.bottle()"
   ]
  },
  {
   "cell_type": "code",
   "execution_count": 47,
   "metadata": {},
   "outputs": [
    {
     "name": "stdout",
     "output_type": "stream",
     "text": [
      "Recipe(name='Mac n Cheese', ingredients=['Cheese', 'Milk', 'Macroni'], instruction='Cook well')\n",
      "Mac n Cheese\n",
      "['Cheese', 'Milk', 'Macroni']\n",
      "Cook well\n"
     ]
    }
   ],
   "source": [
    "#Data Class\n",
    "from dataclasses import dataclass\n",
    "@dataclass\n",
    "class Recipe:\n",
    "    name: str\n",
    "    ingredients :list\n",
    "    instruction: str\n",
    "\n",
    "r1 = Recipe(\"Mac n Cheese\",[\"Cheese\",\"Milk\",\"Macroni\"],\"Cook well\")\n",
    "print(r1)\n",
    "print(r1.name)\n",
    "print(r1.ingredients)\n",
    "print(r1.instruction)\n",
    "\n",
    "    "
   ]
  },
  {
   "cell_type": "code",
   "execution_count": 50,
   "metadata": {},
   "outputs": [],
   "source": [
    "class Person:\n",
    "    def __init__(self,age,name) -> None:\n",
    "        self.age = age\n",
    "        self.name = name\n",
    "    def details(self):\n",
    "        return f\"{self.name} is {self.age} years old.\"\n",
    "    \n",
    "class Student(Person):\n",
    "    def __init__(self, age, name,school , section) -> None:\n",
    "        super().__init__(age, name)\n",
    "        self.school = school\n",
    "        self.section = section\n",
    "\n",
    "class Science(Student):\n",
    "    def __init__(self, age, name, school, section,subject) -> None:\n",
    "        super().__init__(age, name, school, section)\n",
    "        self.subject  = subject\n",
    "    \n",
    "\n",
    "       \n",
    "    "
   ]
  },
  {
   "cell_type": "code",
   "execution_count": 69,
   "metadata": {},
   "outputs": [
    {
     "name": "stdout",
     "output_type": "stream",
     "text": [
      "['raj', 'aaman']\n",
      "[1, 2, 3, 4, 5]\n",
      "1\n"
     ]
    }
   ],
   "source": [
    "import sys\n",
    "\n",
    "\n",
    "\n",
    "class SuperList(list):\n",
    "    # def __init__(self,*args):\n",
    "    #     super().__init__(*args)\n",
    "    \n",
    "    def gt(self,n):\n",
    "        return [x for x in self if x>n]\n",
    "    \n",
    "    def lt(self,n):\n",
    "        return [x for x in self if x<n]\n",
    "    \n",
    "    def extract(self,dtype = int):\n",
    "        return [x for x in self if isinstance(x,dtype)]\n",
    "    \n",
    "    def index(self, __value, __start = 0, __stop = sys.maxsize) -> int:\n",
    "        if __value in self:    \n",
    "            return super().index(__value, __start, __stop)\n",
    "    \n",
    "    \n",
    "a1 = SuperList([1,2,3,4,5,\"aaa\"])\n",
    "a = SuperList([\"raj\",\"aaman\"])\n",
    "print(a.extract(str))\n",
    "print(a1.extract())\n",
    "print(a1.index(2))"
   ]
  },
  {
   "cell_type": "code",
   "execution_count": 79,
   "metadata": {},
   "outputs": [
    {
     "name": "stdout",
     "output_type": "stream",
     "text": [
      "Bottle: Material Glass and Content is  Shake and brand Milton and 1 L of capacity\n",
      "Bottle: Material Glass and Content is  wine and brand Xyz and 1 L of capacity\n",
      "False\n",
      "[Glass Shake, Glass wine]\n"
     ]
    }
   ],
   "source": [
    "class Bottle():\n",
    "    def __init__(self,material,content,capacity):\n",
    "        self.material = material   #instance variable\n",
    "        self.content = content\n",
    "        self.capacity = capacity    \n",
    "    def brand(self,company):\n",
    "        self.company = company\n",
    "    def bottle(self):\n",
    "        print(f\"Bottle: Material {self.material} and Content is  {self.content} and brand {self.company} and {self.capacity} L of capacity\")\n",
    "        \n",
    "    def __gt__(self,other):\n",
    "        if isinstance(other,Bottle):\n",
    "            return self.capacity>other.capacity\n",
    "        elif isinstance(other,(int,float)):\n",
    "            return self.capacity>other\n",
    "    def __str__(self):\n",
    "        return f'{self.material}'\n",
    "    \n",
    "    def __repr__(self):\n",
    "        return f'{self.material} {self.content}'\n",
    "b1 = Bottle(\"Glass\",\"Shake\",1)\n",
    "b2 = Bottle(\"Glass\",\"wine\",1)\n",
    "b1.brand(\"Milton\")\n",
    "b2.brand(\"Xyz\")\n",
    "b1.bottle()\n",
    "b2.bottle()\n",
    "print(b1>100)\n",
    "Bottles = [b1,b2]\n",
    "print(Bottles)\n",
    "\n"
   ]
  },
  {
   "cell_type": "code",
   "execution_count": null,
   "metadata": {},
   "outputs": [],
   "source": []
  }
 ],
 "metadata": {
  "kernelspec": {
   "display_name": "base",
   "language": "python",
   "name": "python3"
  },
  "language_info": {
   "codemirror_mode": {
    "name": "ipython",
    "version": 3
   },
   "file_extension": ".py",
   "mimetype": "text/x-python",
   "name": "python",
   "nbconvert_exporter": "python",
   "pygments_lexer": "ipython3",
   "version": "3.11.4"
  }
 },
 "nbformat": 4,
 "nbformat_minor": 2
}
