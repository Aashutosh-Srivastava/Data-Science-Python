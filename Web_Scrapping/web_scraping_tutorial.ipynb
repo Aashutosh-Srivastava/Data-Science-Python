{
 "cells": [
  {
   "cell_type": "code",
   "execution_count": null,
   "metadata": {},
   "outputs": [],
   "source": [
    "import requests\n",
    "from bs4 import BeautifulSoup as bs"
   ]
  },
  {
   "cell_type": "markdown",
   "metadata": {},
   "source": [
    "```Loading our first page```"
   ]
  },
  {
   "cell_type": "code",
   "execution_count": null,
   "metadata": {},
   "outputs": [],
   "source": [
    "#Load the webpage content\n",
    "r = requests.get(\"http://127.0.0.1:5500/Web_Scrapping/example.html\")\n",
    "#convert to a beautiful soup object\n",
    "soup = bs(r.content)\n",
    "#print out our html\n",
    "print(soup.prettify())"
   ]
  },
  {
   "cell_type": "markdown",
   "metadata": {},
   "source": [
    "### Start using beautifulsoup to scape"
   ]
  },
  {
   "cell_type": "markdown",
   "metadata": {},
   "source": [
    "```Find and Find all```"
   ]
  },
  {
   "cell_type": "code",
   "execution_count": null,
   "metadata": {},
   "outputs": [],
   "source": [
    "header = soup.find('h2')\n",
    "header                   #Shows only first occurence\n",
    "headers = soup.findAll('h2')\n",
    "headers                    #shows all"
   ]
  },
  {
   "cell_type": "code",
   "execution_count": null,
   "metadata": {},
   "outputs": [],
   "source": [
    "#pass a list of elements to look for\n",
    "first_headers = soup.find(['h1','h2'])\n",
    "print(first_headers)\n",
    "\n",
    "print()\n",
    "all_headers = soup.findAll(['h1','h2'])\n",
    "all_headers"
   ]
  },
  {
   "cell_type": "code",
   "execution_count": null,
   "metadata": {},
   "outputs": [],
   "source": [
    "#you can also pass in attributes to the find/findall fnc\n",
    "# para = soup.findAll('p',attrs={'id':'paragraph-id'})\n",
    "# para  it will print only that paragraph that has same if"
   ]
  },
  {
   "cell_type": "code",
   "execution_count": null,
   "metadata": {},
   "outputs": [],
   "source": [
    "#You can nest find/findall calls\n",
    "body = soup.find('body')\n",
    "body\n",
    "ul = body.find('ul')\n",
    "li  =ul.find('li')\n",
    "li\n",
    "\n",
    " "
   ]
  },
  {
   "cell_type": "code",
   "execution_count": null,
   "metadata": {},
   "outputs": [],
   "source": [
    "# we can search for specific strings in find and find all\n",
    "print(soup.prettify())"
   ]
  },
  {
   "cell_type": "code",
   "execution_count": 6,
   "metadata": {},
   "outputs": [
    {
     "data": {
      "text/plain": [
       "[]"
      ]
     },
     "execution_count": 6,
     "metadata": {},
     "output_type": "execute_result"
    }
   ],
   "source": [
    "import re\n",
    "a= soup.findAll('a',string=re.compile('#home'))\n",
    "a"
   ]
  },
  {
   "cell_type": "markdown",
   "metadata": {},
   "source": [
    "```select(CSS selector)```"
   ]
  },
  {
   "cell_type": "code",
   "execution_count": 8,
   "metadata": {},
   "outputs": [
    {
     "data": {
      "text/plain": [
       "[<p>This is the home section of your webpage.</p>,\n",
       " <p>Provide information about your website or organization here.</p>,\n",
       " <p>Include contact details or a form for users to reach out to you.</p>,\n",
       " <p>© 2023 Your Website Name. All rights reserved.</p>]"
      ]
     },
     "execution_count": 8,
     "metadata": {},
     "output_type": "execute_result"
    }
   ],
   "source": [
    "content  = soup.select('p')\n",
    "content"
   ]
  },
  {
   "cell_type": "code",
   "execution_count": 10,
   "metadata": {},
   "outputs": [
    {
     "name": "stdout",
     "output_type": "stream",
     "text": [
      "<body>\n",
      " <header>\n",
      "  <h1>\n",
      "   Your Website Name\n",
      "  </h1>\n",
      "  <nav>\n",
      "   <ul>\n",
      "    <li>\n",
      "     <a href=\"#home\">\n",
      "      Home\n",
      "     </a>\n",
      "    </li>\n",
      "    <li>\n",
      "     <a href=\"#about\">\n",
      "      About\n",
      "     </a>\n",
      "    </li>\n",
      "    <li>\n",
      "     <a href=\"#contact\">\n",
      "      Contact\n",
      "     </a>\n",
      "    </li>\n",
      "   </ul>\n",
      "  </nav>\n",
      " </header>\n",
      " <main>\n",
      "  <section id=\"home\">\n",
      "   <h2>\n",
      "    Welcome to Our Website!\n",
      "   </h2>\n",
      "   <p>\n",
      "    This is the home section of your webpage.\n",
      "   </p>\n",
      "  </section>\n",
      "  <section id=\"about\">\n",
      "   <h2>\n",
      "    About Us\n",
      "   </h2>\n",
      "   <p>\n",
      "    Provide information about your website or organization here.\n",
      "   </p>\n",
      "  </section>\n",
      "  <section id=\"contact\">\n",
      "   <h2>\n",
      "    Contact Us\n",
      "   </h2>\n",
      "   <p>\n",
      "    Include contact details or a form for users to reach out to you.\n",
      "   </p>\n",
      "  </section>\n",
      " </main>\n",
      " <footer>\n",
      "  <p>\n",
      "   © 2023 Your Website Name. All rights reserved.\n",
      "  </p>\n",
      " </footer>\n",
      " <!-- Additional body elements (scripts, etc.) can go here -->\n",
      " <!-- Code injected by live-server -->\n",
      " <script>\n",
      "  // <![CDATA[  <-- For SVG support\n",
      "\tif ('WebSocket' in window) {\n",
      "\t\t(function () {\n",
      "\t\t\tfunction refreshCSS() {\n",
      "\t\t\t\tvar sheets = [].slice.call(document.getElementsByTagName(\"link\"));\n",
      "\t\t\t\tvar head = document.getElementsByTagName(\"head\")[0];\n",
      "\t\t\t\tfor (var i = 0; i < sheets.length; ++i) {\n",
      "\t\t\t\t\tvar elem = sheets[i];\n",
      "\t\t\t\t\tvar parent = elem.parentElement || head;\n",
      "\t\t\t\t\tparent.removeChild(elem);\n",
      "\t\t\t\t\tvar rel = elem.rel;\n",
      "\t\t\t\t\tif (elem.href && typeof rel != \"string\" || rel.length == 0 || rel.toLowerCase() == \"stylesheet\") {\n",
      "\t\t\t\t\t\tvar url = elem.href.replace(/(&|\\?)_cacheOverride=\\d+/, '');\n",
      "\t\t\t\t\t\telem.href = url + (url.indexOf('?') >= 0 ? '&' : '?') + '_cacheOverride=' + (new Date().valueOf());\n",
      "\t\t\t\t\t}\n",
      "\t\t\t\t\tparent.appendChild(elem);\n",
      "\t\t\t\t}\n",
      "\t\t\t}\n",
      "\t\t\tvar protocol = window.location.protocol === 'http:' ? 'ws://' : 'wss://';\n",
      "\t\t\tvar address = protocol + window.location.host + window.location.pathname + '/ws';\n",
      "\t\t\tvar socket = new WebSocket(address);\n",
      "\t\t\tsocket.onmessage = function (msg) {\n",
      "\t\t\t\tif (msg.data == 'reload') window.location.reload();\n",
      "\t\t\t\telse if (msg.data == 'refreshcss') refreshCSS();\n",
      "\t\t\t};\n",
      "\t\t\tif (sessionStorage && !sessionStorage.getItem('IsThisFirstTime_Log_From_LiveServer')) {\n",
      "\t\t\t\tconsole.log('Live reload enabled.');\n",
      "\t\t\t\tsessionStorage.setItem('IsThisFirstTime_Log_From_LiveServer', true);\n",
      "\t\t\t}\n",
      "\t\t})();\n",
      "\t}\n",
      "\telse {\n",
      "\t\tconsole.error('Upgrade your browser. This Browser is NOT supported WebSocket for Live-Reloading.');\n",
      "\t}\n",
      "\t// ]]>\n",
      " </script>\n",
      "</body>\n",
      "\n"
     ]
    }
   ],
   "source": [
    "print(soup.body.prettify())"
   ]
  },
  {
   "cell_type": "code",
   "execution_count": 11,
   "metadata": {},
   "outputs": [
    {
     "data": {
      "text/plain": [
       "[<a href=\"#home\">Home</a>,\n",
       " <a href=\"#about\">About</a>,\n",
       " <a href=\"#contact\">Contact</a>]"
      ]
     },
     "execution_count": 11,
     "metadata": {},
     "output_type": "execute_result"
    }
   ],
   "source": [
    "list = soup.select('li a')\n",
    "list"
   ]
  },
  {
   "cell_type": "code",
   "execution_count": 13,
   "metadata": {},
   "outputs": [
    {
     "data": {
      "text/plain": [
       "[]"
      ]
     },
     "execution_count": 13,
     "metadata": {},
     "output_type": "execute_result"
    }
   ],
   "source": [
    "body_nav = soup.select('body > h1')\n",
    "body_nav"
   ]
  },
  {
   "cell_type": "markdown",
   "metadata": {},
   "source": [
    "### getting different properties of html\n"
   ]
  },
  {
   "cell_type": "markdown",
   "metadata": {},
   "source": [
    "```using string and get_text method```"
   ]
  },
  {
   "cell_type": "code",
   "execution_count": 14,
   "metadata": {},
   "outputs": [
    {
     "data": {
      "text/plain": [
       "'Welcome to Our Website!'"
      ]
     },
     "execution_count": 14,
     "metadata": {},
     "output_type": "execute_result"
    }
   ],
   "source": [
    "header = soup.find(\"h2\")\n",
    "header.string"
   ]
  },
  {
   "cell_type": "code",
   "execution_count": 20,
   "metadata": {},
   "outputs": [],
   "source": [
    "# print(soup.body)"
   ]
  },
  {
   "cell_type": "code",
   "execution_count": 19,
   "metadata": {},
   "outputs": [
    {
     "name": "stdout",
     "output_type": "stream",
     "text": [
      "\n",
      "\n",
      "Welcome to Our Website!\n",
      "This is the home section of your webpage.\n",
      "\n",
      "\n",
      "About Us\n",
      "Provide information about your website or organization here.\n",
      "\n",
      "\n",
      "Contact Us\n",
      "Include contact details or a form for users to reach out to you.\n",
      "\n",
      "\n"
     ]
    }
   ],
   "source": [
    "main_text = soup.find('main')   \n",
    "# to print all the string inside a container use get_text()\n",
    "print(main_text.get_text())"
   ]
  },
  {
   "cell_type": "markdown",
   "metadata": {},
   "source": [
    "### Getting a specific property from an element"
   ]
  },
  {
   "cell_type": "code",
   "execution_count": 35,
   "metadata": {},
   "outputs": [
    {
     "data": {
      "text/plain": [
       "'#home'"
      ]
     },
     "execution_count": 35,
     "metadata": {},
     "output_type": "execute_result"
    }
   ],
   "source": [
    "link = soup.find('a')\n",
    "link['href']"
   ]
  },
  {
   "cell_type": "markdown",
   "metadata": {},
   "source": [
    "## Code Navigations"
   ]
  },
  {
   "cell_type": "code",
   "execution_count": 24,
   "metadata": {},
   "outputs": [
    {
     "data": {
      "text/plain": [
       "<body>\n",
       "<header>\n",
       "<h1>Your Website Name</h1>\n",
       "<nav>\n",
       "<ul>\n",
       "<li><a href=\"#home\">Home</a></li>\n",
       "<li><a href=\"#about\">About</a></li>\n",
       "<li><a href=\"#contact\">Contact</a></li>\n",
       "</ul>\n",
       "</nav>\n",
       "</header>\n",
       "<main>\n",
       "<section id=\"home\">\n",
       "<h2>Welcome to Our Website!</h2>\n",
       "<p>This is the home section of your webpage.</p>\n",
       "</section>\n",
       "<section id=\"about\">\n",
       "<h2>About Us</h2>\n",
       "<p>Provide information about your website or organization here.</p>\n",
       "</section>\n",
       "<section id=\"contact\">\n",
       "<h2>Contact Us</h2>\n",
       "<p>Include contact details or a form for users to reach out to you.</p>\n",
       "</section>\n",
       "</main>\n",
       "<footer>\n",
       "<p>© 2023 Your Website Name. All rights reserved.</p>\n",
       "</footer>\n",
       "<!-- Additional body elements (scripts, etc.) can go here -->\n",
       "<!-- Code injected by live-server -->\n",
       "<script>\n",
       "\t// <![CDATA[  <-- For SVG support\n",
       "\tif ('WebSocket' in window) {\n",
       "\t\t(function () {\n",
       "\t\t\tfunction refreshCSS() {\n",
       "\t\t\t\tvar sheets = [].slice.call(document.getElementsByTagName(\"link\"));\n",
       "\t\t\t\tvar head = document.getElementsByTagName(\"head\")[0];\n",
       "\t\t\t\tfor (var i = 0; i < sheets.length; ++i) {\n",
       "\t\t\t\t\tvar elem = sheets[i];\n",
       "\t\t\t\t\tvar parent = elem.parentElement || head;\n",
       "\t\t\t\t\tparent.removeChild(elem);\n",
       "\t\t\t\t\tvar rel = elem.rel;\n",
       "\t\t\t\t\tif (elem.href && typeof rel != \"string\" || rel.length == 0 || rel.toLowerCase() == \"stylesheet\") {\n",
       "\t\t\t\t\t\tvar url = elem.href.replace(/(&|\\?)_cacheOverride=\\d+/, '');\n",
       "\t\t\t\t\t\telem.href = url + (url.indexOf('?') >= 0 ? '&' : '?') + '_cacheOverride=' + (new Date().valueOf());\n",
       "\t\t\t\t\t}\n",
       "\t\t\t\t\tparent.appendChild(elem);\n",
       "\t\t\t\t}\n",
       "\t\t\t}\n",
       "\t\t\tvar protocol = window.location.protocol === 'http:' ? 'ws://' : 'wss://';\n",
       "\t\t\tvar address = protocol + window.location.host + window.location.pathname + '/ws';\n",
       "\t\t\tvar socket = new WebSocket(address);\n",
       "\t\t\tsocket.onmessage = function (msg) {\n",
       "\t\t\t\tif (msg.data == 'reload') window.location.reload();\n",
       "\t\t\t\telse if (msg.data == 'refreshcss') refreshCSS();\n",
       "\t\t\t};\n",
       "\t\t\tif (sessionStorage && !sessionStorage.getItem('IsThisFirstTime_Log_From_LiveServer')) {\n",
       "\t\t\t\tconsole.log('Live reload enabled.');\n",
       "\t\t\t\tsessionStorage.setItem('IsThisFirstTime_Log_From_LiveServer', true);\n",
       "\t\t\t}\n",
       "\t\t})();\n",
       "\t}\n",
       "\telse {\n",
       "\t\tconsole.error('Upgrade your browser. This Browser is NOT supported WebSocket for Live-Reloading.');\n",
       "\t}\n",
       "\t// ]]>\n",
       "</script>\n",
       "</body>"
      ]
     },
     "execution_count": 24,
     "metadata": {},
     "output_type": "execute_result"
    }
   ],
   "source": [
    "soup.body  #body ke sab element print kar kr degi"
   ]
  },
  {
   "cell_type": "code",
   "execution_count": 25,
   "metadata": {},
   "outputs": [
    {
     "data": {
      "text/plain": [
       "<h2>Welcome to Our Website!</h2>"
      ]
     },
     "execution_count": 25,
     "metadata": {},
     "output_type": "execute_result"
    }
   ],
   "source": [
    "soup.body.h2  #ye method body ke andr pehle h2 ko print kr ke degi"
   ]
  },
  {
   "cell_type": "code",
   "execution_count": 26,
   "metadata": {},
   "outputs": [
    {
     "name": "stdout",
     "output_type": "stream",
     "text": [
      "<body>\n",
      " <header>\n",
      "  <h1>\n",
      "   Your Website Name\n",
      "  </h1>\n",
      "  <nav>\n",
      "   <ul>\n",
      "    <li>\n",
      "     <a href=\"#home\">\n",
      "      Home\n",
      "     </a>\n",
      "    </li>\n",
      "    <li>\n",
      "     <a href=\"#about\">\n",
      "      About\n",
      "     </a>\n",
      "    </li>\n",
      "    <li>\n",
      "     <a href=\"#contact\">\n",
      "      Contact\n",
      "     </a>\n",
      "    </li>\n",
      "   </ul>\n",
      "  </nav>\n",
      " </header>\n",
      " <main>\n",
      "  <section id=\"home\">\n",
      "   <h2>\n",
      "    Welcome to Our Website!\n",
      "   </h2>\n",
      "   <p>\n",
      "    This is the home section of your webpage.\n",
      "   </p>\n",
      "  </section>\n",
      "  <section id=\"about\">\n",
      "   <h2>\n",
      "    About Us\n",
      "   </h2>\n",
      "   <p>\n",
      "    Provide information about your website or organization here.\n",
      "   </p>\n",
      "  </section>\n",
      "  <section id=\"contact\">\n",
      "   <h2>\n",
      "    Contact Us\n",
      "   </h2>\n",
      "   <p>\n",
      "    Include contact details or a form for users to reach out to you.\n",
      "   </p>\n",
      "  </section>\n",
      " </main>\n",
      " <footer>\n",
      "  <p>\n",
      "   © 2023 Your Website Name. All rights reserved.\n",
      "  </p>\n",
      " </footer>\n",
      " <!-- Additional body elements (scripts, etc.) can go here -->\n",
      " <!-- Code injected by live-server -->\n",
      " <script>\n",
      "  // <![CDATA[  <-- For SVG support\n",
      "\tif ('WebSocket' in window) {\n",
      "\t\t(function () {\n",
      "\t\t\tfunction refreshCSS() {\n",
      "\t\t\t\tvar sheets = [].slice.call(document.getElementsByTagName(\"link\"));\n",
      "\t\t\t\tvar head = document.getElementsByTagName(\"head\")[0];\n",
      "\t\t\t\tfor (var i = 0; i < sheets.length; ++i) {\n",
      "\t\t\t\t\tvar elem = sheets[i];\n",
      "\t\t\t\t\tvar parent = elem.parentElement || head;\n",
      "\t\t\t\t\tparent.removeChild(elem);\n",
      "\t\t\t\t\tvar rel = elem.rel;\n",
      "\t\t\t\t\tif (elem.href && typeof rel != \"string\" || rel.length == 0 || rel.toLowerCase() == \"stylesheet\") {\n",
      "\t\t\t\t\t\tvar url = elem.href.replace(/(&|\\?)_cacheOverride=\\d+/, '');\n",
      "\t\t\t\t\t\telem.href = url + (url.indexOf('?') >= 0 ? '&' : '?') + '_cacheOverride=' + (new Date().valueOf());\n",
      "\t\t\t\t\t}\n",
      "\t\t\t\t\tparent.appendChild(elem);\n",
      "\t\t\t\t}\n",
      "\t\t\t}\n",
      "\t\t\tvar protocol = window.location.protocol === 'http:' ? 'ws://' : 'wss://';\n",
      "\t\t\tvar address = protocol + window.location.host + window.location.pathname + '/ws';\n",
      "\t\t\tvar socket = new WebSocket(address);\n",
      "\t\t\tsocket.onmessage = function (msg) {\n",
      "\t\t\t\tif (msg.data == 'reload') window.location.reload();\n",
      "\t\t\t\telse if (msg.data == 'refreshcss') refreshCSS();\n",
      "\t\t\t};\n",
      "\t\t\tif (sessionStorage && !sessionStorage.getItem('IsThisFirstTime_Log_From_LiveServer')) {\n",
      "\t\t\t\tconsole.log('Live reload enabled.');\n",
      "\t\t\t\tsessionStorage.setItem('IsThisFirstTime_Log_From_LiveServer', true);\n",
      "\t\t\t}\n",
      "\t\t})();\n",
      "\t}\n",
      "\telse {\n",
      "\t\tconsole.error('Upgrade your browser. This Browser is NOT supported WebSocket for Live-Reloading.');\n",
      "\t}\n",
      "\t// ]]>\n",
      " </script>\n",
      "</body>\n",
      "\n"
     ]
    }
   ],
   "source": [
    "#know the terms: Parent Sibling And the Child\n",
    "print(soup.body.prettify())"
   ]
  },
  {
   "cell_type": "code",
   "execution_count": 31,
   "metadata": {},
   "outputs": [
    {
     "name": "stdout",
     "output_type": "stream",
     "text": [
      "[]\n"
     ]
    }
   ],
   "source": [
    "print(soup.body.find('ul').find_next_siblings())   #Will print all siblings of ul (if any)"
   ]
  }
 ],
 "metadata": {
  "kernelspec": {
   "display_name": "base",
   "language": "python",
   "name": "python3"
  },
  "language_info": {
   "codemirror_mode": {
    "name": "ipython",
    "version": 3
   },
   "file_extension": ".py",
   "mimetype": "text/x-python",
   "name": "python",
   "nbconvert_exporter": "python",
   "pygments_lexer": "ipython3",
   "version": "3.11.4"
  }
 },
 "nbformat": 4,
 "nbformat_minor": 2
}
