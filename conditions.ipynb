{
 "cells": [
  {
   "cell_type": "markdown",
   "metadata": {},
   "source": [
    "# Conditons in Python \n",
    "\n",
    "### Indentation (PeP8)\n",
    "\n",
    "Python indentation is something that is a foundation concept for any new python programming and understanding. Indentation is mandatory in python to define the blocks of statements. It is preferred to use whitespaces instead of tabs to indent in python. Python uses four spaces as default indentation spaces.\n"
   ]
  },
  {
   "cell_type": "markdown",
   "metadata": {},
   "source": [
    "### Using if else elseif"
   ]
  },
  {
   "cell_type": "code",
   "execution_count": 1,
   "metadata": {},
   "outputs": [
    {
     "name": "stdout",
     "output_type": "stream",
     "text": [
      "X is greater than 3\n"
     ]
    }
   ],
   "source": [
    "x = 10\n",
    "if x>3:\n",
    "    print('X is greater than 3')"
   ]
  },
  {
   "cell_type": "code",
   "execution_count": 3,
   "metadata": {},
   "outputs": [
    {
     "name": "stdout",
     "output_type": "stream",
     "text": [
      "x is equal to 10\n",
      "X is greater than 10\n"
     ]
    }
   ],
   "source": [
    "if x == 5:                                               \n",
    "    print('X is equal to 5')\n",
    "if x == 10:\n",
    "    print('x is equal to 10')\n",
    "if x >= 10:\n",
    "    print('X is greater than 10')    "
   ]
  },
  {
   "cell_type": "code",
   "execution_count": 8,
   "metadata": {},
   "outputs": [
    {
     "name": "stdout",
     "output_type": "stream",
     "text": [
      "Password is empty\n"
     ]
    }
   ],
   "source": [
    "username = input(\"Enter your name\")\n",
    "password = input(\"Enter your password\")\n",
    "\n",
    "if username:\n",
    "    if password:\n",
    "        if username == \"Alex\"and password == \"Alexa\":\n",
    "            print(\"Login Successful\")\n",
    "        else:\n",
    "            print(\"Login Failed\")\n",
    "    else:\n",
    "        print(\"Password is empty\")\n",
    "else:\n",
    "    print(\"username is empty\")"
   ]
  },
  {
   "cell_type": "code",
   "execution_count": 11,
   "metadata": {},
   "outputs": [
    {
     "name": "stdout",
     "output_type": "stream",
     "text": [
      "Monday is my off day\n"
     ]
    }
   ],
   "source": [
    "offday=input(\"enter your off day\")\n",
    "\n",
    "match(offday):\n",
    "    case \"Sunday\": \n",
    "        print(\"Sunday is my off day\")\n",
    "    case \"Wednesday\":\n",
    "        print(\"Wednesday is my off day\")\n",
    "    case \"Thursday\":\n",
    "        print(\"Thursday is my off day\")\n",
    "    case \"Tuesday\":\n",
    "         print(\"Tuesday is my off day\")\n",
    "    case \"Friday\":\n",
    "         print(\"Friday is my off day\")\n",
    "    case \"Saturday\":\n",
    "         print(\"Saturday is my off day\")\n",
    "    case \"Monday\":\n",
    "         print(\"Monday is my off day\")\n",
    "    case _:\n",
    "        print(\"no day off\")"
   ]
  },
  {
   "cell_type": "code",
   "execution_count": 1,
   "metadata": {},
   "outputs": [
    {
     "name": "stdout",
     "output_type": "stream",
     "text": [
      "Take your medicines\n"
     ]
    }
   ],
   "source": [
    "had_lunch = input(\"Did you eat Lunch?\")\n",
    "had_medicine = input(\"Did you take your medicines\")\n",
    "\n",
    "if had_lunch == 'yes':\n",
    "    if had_medicine =='yes':\n",
    "        print (\"very good\")\n",
    "    else:\n",
    "        print('Take your medicines')\n",
    "else:\n",
    "    print(\"have your lunch!\")        "
   ]
  },
  {
   "cell_type": "code",
   "execution_count": 2,
   "metadata": {},
   "outputs": [
    {
     "name": "stdout",
     "output_type": "stream",
     "text": [
      "What kind of ice cream flavour would you like?\n",
      "1. choco\n",
      "2. vanilla\n",
      "3. mango\n",
      "4. butterscotch\n",
      "5. Strawberry\n",
      "You have selected choco and you have to pay 34\n"
     ]
    }
   ],
   "source": [
    "print(\"What kind of ice cream flavour would you like?\")\n",
    "print(f'1. choco')\n",
    "print(f'2. vanilla')\n",
    "print(f'3. mango')\n",
    "print(f'4. butterscotch')\n",
    "print(f'5. Strawberry')\n",
    "choice = input(\"Enter your choice\")\n",
    "\n",
    "match choice:\n",
    "    case 'choco':\n",
    "        cost = 34\n",
    "    case 'vanilla':\n",
    "        cost = 40\n",
    "    case 'mango':\n",
    "        cost = 10\n",
    "    case 'butterscotch':\n",
    "        cost = 30\n",
    "    case 'Strawberry':\n",
    "        cost = 23\n",
    "    case _:\n",
    "        cost = 0\n",
    "        print(\"Not available\")\n",
    "        \n",
    "print(f'You have selected {choice} and you have to pay {cost}')"
   ]
  },
  {
   "cell_type": "code",
   "execution_count": 3,
   "metadata": {},
   "outputs": [
    {
     "name": "stdout",
     "output_type": "stream",
     "text": [
      "You have to pay 500.0 rupees\n"
     ]
    }
   ],
   "source": [
    "weigh = float(input('how much apple do you want in kg?'))\n",
    "if weigh == 1: price = 110\n",
    "elif weigh >=2 and weigh <=5: price = 100*weigh\n",
    "elif weigh >=6 and weigh <=10: price = 90*weigh\n",
    "print(f'You have to pay {price} rupees')"
   ]
  },
  {
   "cell_type": "code",
   "execution_count": 4,
   "metadata": {},
   "outputs": [
    {
     "name": "stdout",
     "output_type": "stream",
     "text": [
      "x is even\n"
     ]
    }
   ],
   "source": [
    "x = 10\n",
    "print('x is even') if x%2 == 0 else print('x is odd')"
   ]
  },
  {
   "cell_type": "code",
   "execution_count": null,
   "metadata": {},
   "outputs": [],
   "source": []
  }
 ],
 "metadata": {
  "kernelspec": {
   "display_name": "base",
   "language": "python",
   "name": "python3"
  },
  "language_info": {
   "codemirror_mode": {
    "name": "ipython",
    "version": 3
   },
   "file_extension": ".py",
   "mimetype": "text/x-python",
   "name": "python",
   "nbconvert_exporter": "python",
   "pygments_lexer": "ipython3",
   "version": "3.11.4"
  },
  "orig_nbformat": 4
 },
 "nbformat": 4,
 "nbformat_minor": 2
}
