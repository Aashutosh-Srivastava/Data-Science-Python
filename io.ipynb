{
 "cells": [
  {
   "cell_type": "markdown",
   "metadata": {},
   "source": [
    "# print()   #for output\n",
    "# input()   #for input\n"
   ]
  },
  {
   "cell_type": "code",
   "execution_count": 1,
   "metadata": {},
   "outputs": [
    {
     "name": "stdout",
     "output_type": "stream",
     "text": [
      "My information is\n",
      "Aashutosh Srivastava\n",
      "Lucknow\n"
     ]
    }
   ],
   "source": [
    "name = \"Aashutosh Srivastava\"\n",
    "city = \"Lucknow\"\n",
    "print(\"My information is\")\n",
    "print(name)\n",
    "print(city)"
   ]
  },
  {
   "cell_type": "markdown",
   "metadata": {},
   "source": []
  },
  {
   "cell_type": "code",
   "execution_count": 2,
   "metadata": {},
   "outputs": [
    {
     "name": "stdout",
     "output_type": "stream",
     "text": [
      "information about me: Aashutosh Srivastava Lucknow\n"
     ]
    }
   ],
   "source": [
    "print(\"information about me:\",name,city)"
   ]
  },
  {
   "cell_type": "code",
   "execution_count": 3,
   "metadata": {},
   "outputs": [
    {
     "name": "stdout",
     "output_type": "stream",
     "text": [
      "i am Aashutosh Srivastava and i live in Lucknow\n"
     ]
    }
   ],
   "source": [
    "print(\"i am\",name,\"and i live in\", city)"
   ]
  },
  {
   "cell_type": "code",
   "execution_count": 6,
   "metadata": {},
   "outputs": [
    {
     "name": "stdout",
     "output_type": "stream",
     "text": [
      "My name is Aashutosh Srivastava and i live in Lucknow\n"
     ]
    }
   ],
   "source": [
    "print(f\"My name is {name} and i live in {city}\")   #printing using f string"
   ]
  },
  {
   "cell_type": "code",
   "execution_count": 3,
   "metadata": {},
   "outputs": [
    {
     "name": "stdout",
     "output_type": "stream",
     "text": [
      "1. Aashu      Lucknow\n",
      "2.   Ayushi   Lucknow\n",
      "3. Anshu      Lucknow\n",
      "4.      Harsh Lucknow\n"
     ]
    }
   ],
   "source": [
    "n1 ,c1 = \"Aashu\",\"Lucknow\"\n",
    "n2 ,c2 = \"Ayushi\",\"Lucknow\"\n",
    "n3 ,c3 = \"Anshu\",\"Lucknow\"\n",
    "n4 ,c4 = \"Harsh\",\"Lucknow\"\n",
    "\n",
    "print(f\"1. {n1:10} {c1}\")\n",
    "print(f\"2. {n2:^10} {c2}\")\n",
    "print(f\"3. {n3:<10} {c3}\")\n",
    "print(f\"4. {n4:>10} {c4}\")      #to align the items to the right we use '>' this sign and '<' to left align and '^' to centre align"
   ]
  },
  {
   "cell_type": "code",
   "execution_count": 7,
   "metadata": {},
   "outputs": [
    {
     "name": "stdout",
     "output_type": "stream",
     "text": [
      "Aashu,Ayushi,Anshu,Harsh\n",
      "Aashu\tAyushi\tAnshu\tHarsh\n",
      "Aashu\n",
      "Ayushi\n",
      "Anshu\n",
      "Harsh\n"
     ]
    }
   ],
   "source": [
    "print(n1,n2,n3,n4,sep=\",\")      #separator in print (, \\n \\t ,etc)\n",
    "print(n1,n2,n3,n4,sep=\"\\t\")      \n",
    "print(n1,n2,n3,n4,sep=\"\\n\")      "
   ]
  },
  {
   "cell_type": "code",
   "execution_count": null,
   "metadata": {},
   "outputs": [],
   "source": []
  }
 ],
 "metadata": {
  "kernelspec": {
   "display_name": "base",
   "language": "python",
   "name": "python3"
  },
  "language_info": {
   "codemirror_mode": {
    "name": "ipython",
    "version": 3
   },
   "file_extension": ".py",
   "mimetype": "text/x-python",
   "name": "python",
   "nbconvert_exporter": "python",
   "pygments_lexer": "ipython3",
   "version": "3.11.4"
  },
  "orig_nbformat": 4
 },
 "nbformat": 4,
 "nbformat_minor": 2
}
