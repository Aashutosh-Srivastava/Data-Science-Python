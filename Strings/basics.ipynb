{
 "cells": [
  {
   "cell_type": "markdown",
   "metadata": {},
   "source": [
    "# What you need to learn\n",
    "- Create strings\n",
    "- Indexing and slicing\n",
    "- Strings methods\n",
    "    - ormatting methods\n",
    "    - validations methods\n",
    "    - utility methods\n",
    "- Python built-in functions\n",
    "    - len()\n",
    "    - str()\n",
    "    - ord()\n",
    "    - chr()\n",
    "    - eval()"
   ]
  },
  {
   "cell_type": "code",
   "execution_count": 3,
   "metadata": {},
   "outputs": [
    {
     "name": "stdout",
     "output_type": "stream",
     "text": [
      "Hello\n",
      "Hello World\n",
      "Hello\n",
      "this is a multiple world\n"
     ]
    }
   ],
   "source": [
    "#defining strings in python\n",
    "\n",
    "my_string = 'Hello'            #using single quotes\n",
    "print(my_string)\n",
    "\n",
    "my_string = \"Hello World\"      #using double quotes\n",
    "print(my_string)\n",
    "\n",
    "\n",
    "#Triple quotes are used to extend strings to multiple lines\n",
    "my_string = \"\"\"Hello\n",
    "this is a multiple world\"\"\"          #using triple quotes\n",
    "print(my_string)\n",
    "\n"
   ]
  },
  {
   "cell_type": "code",
   "execution_count": 11,
   "metadata": {},
   "outputs": [
    {
     "name": "stdout",
     "output_type": "stream",
     "text": [
      "a\n",
      "e\n",
      "c\n"
     ]
    }
   ],
   "source": [
    "#Indexing\n",
    "\n",
    "str = \"Data Science\"\n",
    "#printing first character\n",
    "print(str[1])\n",
    "#printing last character\n",
    "print(str[-1])\n",
    "#printing 5th  character\n",
    "print(str[6])\n"
   ]
  },
  {
   "cell_type": "code",
   "execution_count": 13,
   "metadata": {},
   "outputs": [
    {
     "ename": "TypeError",
     "evalue": "'str' object is not callable",
     "output_type": "error",
     "traceback": [
      "\u001b[1;31m---------------------------------------------------------------------------\u001b[0m",
      "\u001b[1;31mTypeError\u001b[0m                                 Traceback (most recent call last)",
      "\u001b[1;32md:\\Data Science Python\\Strings\\basics.ipynb Cell 4\u001b[0m line \u001b[0;36m1\n\u001b[1;32m----> <a href='vscode-notebook-cell:/d%3A/Data%20Science%20Python/Strings/basics.ipynb#W5sZmlsZQ%3D%3D?line=0'>1</a>\u001b[0m \u001b[39mprint\u001b[39m(\u001b[39mstr\u001b[39m(\u001b[39m0\u001b[39m))\n",
      "\u001b[1;31mTypeError\u001b[0m: 'str' object is not callable"
     ]
    }
   ],
   "source": [
    "print(str(0))   "
   ]
  },
  {
   "cell_type": "code",
   "execution_count": 14,
   "metadata": {},
   "outputs": [
    {
     "name": "stdout",
     "output_type": "stream",
     "text": [
      "gipo\n"
     ]
    }
   ],
   "source": [
    "#Slicing \n",
    "s = 'Digipodium'\n",
    "\n",
    "slice1 = s[2:6]\n",
    "print(slice1)"
   ]
  },
  {
   "cell_type": "code",
   "execution_count": 23,
   "metadata": {},
   "outputs": [
    {
     "data": {
      "text/plain": [
       "'name'"
      ]
     },
     "execution_count": 23,
     "metadata": {},
     "output_type": "execute_result"
    }
   ],
   "source": [
    "name = \"My name is Khan\"\n",
    "# name[0:2]         # 0 to 1 \n",
    "# name[:2]          #start to 1\n",
    "name[3:7]\n"
   ]
  },
  {
   "cell_type": "code",
   "execution_count": 28,
   "metadata": {},
   "outputs": [
    {
     "name": "stdout",
     "output_type": "stream",
     "text": [
      "35000\n",
      "35000\n"
     ]
    }
   ],
   "source": [
    "price = \"Rs.35000 only\"\n",
    "print(int(price[3:8]))\n",
    "print(int(price[3:3+5]))"
   ]
  },
  {
   "cell_type": "code",
   "execution_count": 38,
   "metadata": {},
   "outputs": [
    {
     "name": "stdout",
     "output_type": "stream",
     "text": [
      "William\n",
      "Will\n",
      "pear\n",
      "Shakespeare\n",
      "Shakes\n",
      "r\n",
      "spear\n"
     ]
    }
   ],
   "source": [
    "word = \"William Shakespeare\"\n",
    "print(word[:7])\n",
    "print(word[:4])\n",
    "print(word[-5:-1])\n",
    "print(word[8:])\n",
    "print(word[8:14])\n",
    "print(word[-2:-1])\n",
    "print(word[-6:-1])\n"
   ]
  },
  {
   "cell_type": "markdown",
   "metadata": {},
   "source": [
    "## Slicing syntax    \n",
    "```var[start:end]```\n",
    "\n",
    "```var[start:end:jump]```"
   ]
  },
  {
   "cell_type": "code",
   "execution_count": 42,
   "metadata": {},
   "outputs": [
    {
     "name": "stdout",
     "output_type": "stream",
     "text": [
      "Wlim\n",
      "Waae\n",
      "eraepsekahS mailliW\n"
     ]
    }
   ],
   "source": [
    "#Using jump indexing\n",
    "print(word[:7:2])   \n",
    "print(word[::5])\n",
    "\n",
    "#Reverse a string\n",
    "print(word[::-1])"
   ]
  },
  {
   "cell_type": "code",
   "execution_count": 43,
   "metadata": {},
   "outputs": [
    {
     "data": {
      "text/plain": [
       "'illiW'"
      ]
     },
     "execution_count": 43,
     "metadata": {},
     "output_type": "execute_result"
    }
   ],
   "source": [
    "word[:5:][::-1][:]"
   ]
  },
  {
   "cell_type": "markdown",
   "metadata": {},
   "source": [
    "``` chr() - Convert int to string char```\n",
    "\n",
    "``` ord() - convert char to int```\n",
    "\n",
    "``` len() - returns length of string```\n",
    "\n",
    "```str() - converts items to string```\n"
   ]
  },
  {
   "cell_type": "code",
   "execution_count": 52,
   "metadata": {},
   "outputs": [
    {
     "name": "stdout",
     "output_type": "stream",
     "text": [
      "z\n",
      "100\n",
      "5\n"
     ]
    }
   ],
   "source": [
    "print(chr(122))\n",
    "print(ord(\"d\"))\n",
    "print(len(\"hello\"))"
   ]
  },
  {
   "cell_type": "code",
   "execution_count": 54,
   "metadata": {},
   "outputs": [
    {
     "data": {
      "text/plain": [
       "'hi there'"
      ]
     },
     "execution_count": 54,
     "metadata": {},
     "output_type": "execute_result"
    }
   ],
   "source": [
    "#Concatenation of Strings\n",
    "'hi' + ' ' + 'there'"
   ]
  },
  {
   "cell_type": "code",
   "execution_count": 55,
   "metadata": {},
   "outputs": [
    {
     "data": {
      "text/plain": [
       "'hihihihihi'"
      ]
     },
     "execution_count": 55,
     "metadata": {},
     "output_type": "execute_result"
    }
   ],
   "source": [
    "#duplication\n",
    "'hi' * 5"
   ]
  },
  {
   "cell_type": "code",
   "execution_count": null,
   "metadata": {},
   "outputs": [],
   "source": []
  }
 ],
 "metadata": {
  "kernelspec": {
   "display_name": "base",
   "language": "python",
   "name": "python3"
  },
  "language_info": {
   "codemirror_mode": {
    "name": "ipython",
    "version": 3
   },
   "file_extension": ".py",
   "mimetype": "text/x-python",
   "name": "python",
   "nbconvert_exporter": "python",
   "pygments_lexer": "ipython3",
   "version": "3.11.4"
  },
  "orig_nbformat": 4
 },
 "nbformat": 4,
 "nbformat_minor": 2
}
