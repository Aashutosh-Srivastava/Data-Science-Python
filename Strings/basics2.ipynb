{
 "cells": [
  {
   "cell_type": "markdown",
   "metadata": {},
   "source": [
    "### Strings basics part 2"
   ]
  },
  {
   "cell_type": "code",
   "execution_count": 1,
   "metadata": {},
   "outputs": [
    {
     "name": "stdout",
     "output_type": "stream",
     "text": [
      "\u001b[1;31mSignature:\u001b[0m \u001b[0meval\u001b[0m\u001b[1;33m(\u001b[0m\u001b[0msource\u001b[0m\u001b[1;33m,\u001b[0m \u001b[0mglobals\u001b[0m\u001b[1;33m=\u001b[0m\u001b[1;32mNone\u001b[0m\u001b[1;33m,\u001b[0m \u001b[0mlocals\u001b[0m\u001b[1;33m=\u001b[0m\u001b[1;32mNone\u001b[0m\u001b[1;33m,\u001b[0m \u001b[1;33m/\u001b[0m\u001b[1;33m)\u001b[0m\u001b[1;33m\u001b[0m\u001b[1;33m\u001b[0m\u001b[0m\n",
      "\u001b[1;31mDocstring:\u001b[0m\n",
      "Evaluate the given source in the context of globals and locals.\n",
      "\n",
      "The source may be a string representing a Python expression\n",
      "or a code object as returned by compile().\n",
      "The globals must be a dictionary and locals can be any mapping,\n",
      "defaulting to the current globals and locals.\n",
      "If only globals is given, locals defaults to it.\n",
      "\u001b[1;31mType:\u001b[0m      builtin_function_or_method"
     ]
    }
   ],
   "source": [
    "eval?"
   ]
  },
  {
   "cell_type": "code",
   "execution_count": 4,
   "metadata": {},
   "outputs": [
    {
     "name": "stdout",
     "output_type": "stream",
     "text": [
      "12\n"
     ]
    }
   ],
   "source": [
    "# x = 10\n",
    "# y = 20\n",
    "\n",
    "operation = input(\"Enter the operation you want to perform on x and y\")\n",
    "print(eval(operation))"
   ]
  },
  {
   "cell_type": "markdown",
   "metadata": {},
   "source": [
    "### Strings Methods\n"
   ]
  },
  {
   "cell_type": "code",
   "execution_count": 8,
   "metadata": {},
   "outputs": [
    {
     "name": "stdout",
     "output_type": "stream",
     "text": [
      "THIS IS AN EXAMPLE OF A MESSAGE STRING\n",
      "this is an example of a message string\n",
      "This is an example of a message string\n",
      "This Is An Example Of A Message String\n",
      "tHIS IS AN eXAMPLE OF A message string\n",
      "this is an example of a message string\n"
     ]
    }
   ],
   "source": [
    "#Formatting methods in strings\n",
    "msg = \"This is an Example of a MESSAGE STRING\"\n",
    "print(msg.upper())               \n",
    "print(msg.lower())\n",
    "print(msg.capitalize())\n",
    "print(msg.title())\n",
    "print(msg.swapcase())\n",
    "print(msg.casefold())"
   ]
  },
  {
   "cell_type": "code",
   "execution_count": 15,
   "metadata": {},
   "outputs": [
    {
     "name": "stdout",
     "output_type": "stream",
     "text": [
      "2\n",
      "5\n",
      "-1\n",
      "2\n"
     ]
    },
    {
     "ename": "ValueError",
     "evalue": "substring not found",
     "output_type": "error",
     "traceback": [
      "\u001b[1;31m---------------------------------------------------------------------------\u001b[0m",
      "\u001b[1;31mValueError\u001b[0m                                Traceback (most recent call last)",
      "\u001b[1;32md:\\Data Science Python\\Strings\\basics2.ipynb Cell 6\u001b[0m line \u001b[0;36m6\n\u001b[0;32m      <a href='vscode-notebook-cell:/d%3A/Data%20Science%20Python/Strings/basics2.ipynb#X12sZmlsZQ%3D%3D?line=3'>4</a>\u001b[0m \u001b[39mprint\u001b[39m(msg\u001b[39m.\u001b[39mfind(\u001b[39m'\u001b[39m\u001b[39mis\u001b[39m\u001b[39m'\u001b[39m,\u001b[39m6\u001b[39m))   \u001b[39m#Shows (-1) when the search pattern not found\u001b[39;00m\n\u001b[0;32m      <a href='vscode-notebook-cell:/d%3A/Data%20Science%20Python/Strings/basics2.ipynb#X12sZmlsZQ%3D%3D?line=4'>5</a>\u001b[0m \u001b[39mprint\u001b[39m(msg\u001b[39m.\u001b[39mindex(\u001b[39m'\u001b[39m\u001b[39mis\u001b[39m\u001b[39m'\u001b[39m))\n\u001b[1;32m----> <a href='vscode-notebook-cell:/d%3A/Data%20Science%20Python/Strings/basics2.ipynb#X12sZmlsZQ%3D%3D?line=5'>6</a>\u001b[0m \u001b[39mprint\u001b[39m(msg\u001b[39m.\u001b[39mindex(\u001b[39m'\u001b[39m\u001b[39mis\u001b[39m\u001b[39m'\u001b[39m,\u001b[39m6\u001b[39m))\n",
      "\u001b[1;31mValueError\u001b[0m: substring not found"
     ]
    }
   ],
   "source": [
    "#Searching methods in strings\n",
    "print(msg.find('is'))     #return the index of first character               \n",
    "print(msg.find('is',3))   #Start searching from index 3\n",
    "print(msg.find('is',6))   #Shows (-1) when the search pattern not found\n",
    "print(msg.index('is'))\n",
    "print(msg.index('is',6))  #Shows error when the search pattern not found\n",
    "   "
   ]
  },
  {
   "cell_type": "code",
   "execution_count": 17,
   "metadata": {},
   "outputs": [
    {
     "data": {
      "text/plain": [
       "3"
      ]
     },
     "execution_count": 17,
     "metadata": {},
     "output_type": "execute_result"
    }
   ],
   "source": [
    "msg.count('a')  #used to count char, strings or substring returns int\n"
   ]
  },
  {
   "cell_type": "code",
   "execution_count": 23,
   "metadata": {},
   "outputs": [
    {
     "name": "stdout",
     "output_type": "stream",
     "text": [
      "True\n",
      "False\n",
      "True\n",
      "False\n",
      "False\n",
      "True\n"
     ]
    }
   ],
   "source": [
    "#Validation methods in Strings\n",
    "name = 'Vijay'\n",
    "print(name.isalpha())\n",
    "print(name.isdigit())\n",
    "print(name.isalnum())\n",
    "print(name.islower())\n",
    "print(name.isupper())\n",
    "print(name.istitle())\n"
   ]
  },
  {
   "cell_type": "code",
   "execution_count": 25,
   "metadata": {},
   "outputs": [
    {
     "name": "stdout",
     "output_type": "stream",
     "text": [
      "Hello Mr. Alex\n",
      "Hi Ms. Alexa\n",
      "Hello Mr.Smith\n",
      "Hi Ms. Smith\n"
     ]
    }
   ],
   "source": [
    "guests = ['Mr. Alex','Ms. Alexa','Mr.Smith','Ms. Smith']\n",
    "for name in guests:\n",
    "    if name.startswith('Mr.'):                   #Using startswith() method\n",
    "        print(f'Hello {name}')\n",
    "    elif name.startswith('Ms.'):\n",
    "        print(f'Hi {name}')\n",
    "    else:\n",
    "        print('yo')"
   ]
  },
  {
   "cell_type": "code",
   "execution_count": 28,
   "metadata": {},
   "outputs": [
    {
     "name": "stdout",
     "output_type": "stream",
     "text": [
      "files.txt is text\n",
      "files2.txt is text\n",
      "files3.csv is csv\n",
      "files4.bat is not a text or csv\n"
     ]
    }
   ],
   "source": [
    "files = ['files.txt','files2.txt','files3.csv','files4.bat']\n",
    "for file in files:\n",
    "    if file.endswith('.txt'):         #using endswith() method\n",
    "        print(f'{file} is text')\n",
    "    elif file.endswith('.csv'):\n",
    "        print(f'{file} is csv')\n",
    "    else:\n",
    "        print(f'{file} is not a text or csv')\n",
    "\n"
   ]
  },
  {
   "cell_type": "code",
   "execution_count": 38,
   "metadata": {},
   "outputs": [],
   "source": [
    "#Manipulation methods in strings\n",
    "poem = '''Sharing makes our life happy baa, baa\n",
    "The more we share the more we have baa, baa\n",
    "Sharing makes our life joyful baa, baa\n",
    "Sharing is a way of caring baa, baa'''\n",
    "\n",
    "# print(poem)\n",
    "# print(poem.split())\n",
    "# print(poem.splitlines())\n",
    "# print(poem.split(','))"
   ]
  },
  {
   "cell_type": "code",
   "execution_count": 39,
   "metadata": {},
   "outputs": [
    {
     "name": "stdout",
     "output_type": "stream",
     "text": [
      "movies\n",
      "song\n",
      "song2\n",
      "image\n"
     ]
    }
   ],
   "source": [
    "file = ['movies.mp4','song.mp3','song2.mp3','image.jpeg']\n",
    "for f in file:\n",
    "    name = f.split('.')[0]\n",
    "    print(name)"
   ]
  },
  {
   "cell_type": "code",
   "execution_count": 41,
   "metadata": {},
   "outputs": [
    {
     "name": "stdout",
     "output_type": "stream",
     "text": [
      "files.txt, files2.txt, files3.csv, files4.bat\n"
     ]
    }
   ],
   "source": [
    "print(\", \".join(files))    #join() method"
   ]
  },
  {
   "cell_type": "code",
   "execution_count": 43,
   "metadata": {},
   "outputs": [
    {
     "name": "stdout",
     "output_type": "stream",
     "text": [
      "C:/user/raj/downloads\n"
     ]
    }
   ],
   "source": [
    "path = ['C:','user','raj','downloads']\n",
    "print('/'.join(path))"
   ]
  },
  {
   "cell_type": "code",
   "execution_count": 11,
   "metadata": {},
   "outputs": [
    {
     "name": "stdout",
     "output_type": "stream",
     "text": [
      "      Vijay kumar  \n",
      "Vijay kumar 19\n",
      "Vijay kumar   13\n",
      "      Vijay kumar 17\n"
     ]
    }
   ],
   "source": [
    "#strip method\n",
    "#removes leading and trailing whitespace characters from the string\n",
    "\n",
    "name = '      Vijay kumar  '\n",
    "print(name)\n",
    "name1 = name.lstrip()\n",
    "name2 = name.rstrip()\n",
    "print(name.strip(),len(name))\n",
    "print(name1,len(name1))\n",
    "print(name2,len(name2))"
   ]
  },
  {
   "cell_type": "code",
   "execution_count": 18,
   "metadata": {},
   "outputs": [
    {
     "name": "stdout",
     "output_type": "stream",
     "text": [
      "Hey!    there\n"
     ]
    },
    {
     "data": {
      "text/plain": [
       "'Hello World!'"
      ]
     },
     "execution_count": 18,
     "metadata": {},
     "output_type": "execute_result"
    }
   ],
   "source": [
    "#Example 2\n",
    "data = ''' A simple object'''\n",
    "data.strip()\n",
    "\n",
    "#Example3\n",
    "content = \"###########world is small#############\"\n",
    "content.strip('#')\n",
    "# content.lstrip('#')\n",
    "# content.rstrip('#')\n",
    "\n",
    "# Strip() only removes leading and trailing spaces not in between spaces\n",
    "#Example4\n",
    "content = \"   Hey!    there    \"\n",
    "print(content.strip())\n",
    "\n",
    "# Example5\n",
    "content1=\"#######Hello World!..............\" \n",
    "content1.strip('#.')"
   ]
  },
  {
   "cell_type": "code",
   "execution_count": 20,
   "metadata": {},
   "outputs": [
    {
     "data": {
      "text/plain": [
       "'This is en exemple of e content in e string'"
      ]
     },
     "execution_count": 20,
     "metadata": {},
     "output_type": "execute_result"
    }
   ],
   "source": [
    "#Replace()\n",
    "msg = \"This is an example of a content in a string\"\n",
    "msg.replace('a','e')"
   ]
  },
  {
   "cell_type": "code",
   "execution_count": 27,
   "metadata": {},
   "outputs": [
    {
     "name": "stdout",
     "output_type": "stream",
     "text": [
      "This are an example of a content in a string\n"
     ]
    }
   ],
   "source": [
    "modified_msg = msg.replace(' is',' are')\n",
    "print(modified_msg)\n"
   ]
  },
  {
   "cell_type": "code",
   "execution_count": 24,
   "metadata": {},
   "outputs": [
    {
     "data": {
      "text/plain": [
       "'Thwas was an example of a content within a string'"
      ]
     },
     "execution_count": 24,
     "metadata": {},
     "output_type": "execute_result"
    }
   ],
   "source": [
    "msg.replace('this','that').replace('is','was').replace('in','within',1)"
   ]
  },
  {
   "cell_type": "code",
   "execution_count": 34,
   "metadata": {},
   "outputs": [
    {
     "name": "stdout",
     "output_type": "stream",
     "text": [
      "python\n"
     ]
    }
   ],
   "source": [
    "text = '%p32@y!*-*!t68h#&on404'\n",
    "ans = ''\n",
    "for char in text:\n",
    "    if char.isalpha():\n",
    "        ans+=char\n",
    "print(ans)"
   ]
  },
  {
   "cell_type": "code",
   "execution_count": 58,
   "metadata": {},
   "outputs": [
    {
     "name": "stdout",
     "output_type": "stream",
     "text": [
      "python\n"
     ]
    }
   ],
   "source": [
    "from string import punctuation,digits\n",
    "\n",
    "for p in punctuation+digits:\n",
    "    text = text.replace(p,'')\n",
    "print(text)\n"
   ]
  },
  {
   "cell_type": "code",
   "execution_count": 63,
   "metadata": {},
   "outputs": [
    {
     "name": "stdout",
     "output_type": "stream",
     "text": [
      "A.M.\n",
      "V.C.\n",
      "R.R.\n"
     ]
    }
   ],
   "source": [
    "name = ['Alex Mishra','Vijay Dennath Chauhan','Raman Raju']\n",
    "for n in name:\n",
    "    fn,*_,ln = n.split()  # *_ throw-away variable for middle name\n",
    "    print(f'{fn[0]}.{ln[0]}.')"
   ]
  },
  {
   "cell_type": "code",
   "execution_count": null,
   "metadata": {},
   "outputs": [],
   "source": []
  }
 ],
 "metadata": {
  "kernelspec": {
   "display_name": "base",
   "language": "python",
   "name": "python3"
  },
  "language_info": {
   "codemirror_mode": {
    "name": "ipython",
    "version": 3
   },
   "file_extension": ".py",
   "mimetype": "text/x-python",
   "name": "python",
   "nbconvert_exporter": "python",
   "pygments_lexer": "ipython3",
   "version": "3.11.4"
  },
  "orig_nbformat": 4
 },
 "nbformat": 4,
 "nbformat_minor": 2
}
