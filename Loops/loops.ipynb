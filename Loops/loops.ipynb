{
 "cells": [
  {
   "cell_type": "markdown",
   "metadata": {},
   "source": [
    "# Loops in Python\n",
    "\n",
    "- For loop\n",
    "- Loop concept\n",
    "    - break\n",
    "    - continue\n",
    "    - else\n",
    "    - enumerate\n",
    "    - zip\n",
    "- While loop"
   ]
  },
  {
   "cell_type": "markdown",
   "metadata": {},
   "source": [
    "### For loop syntax\n",
    " \n",
    " ```\n",
    " for temp_variable in iterable:\n",
    "       statement 1\n",
    "       statement 2\n",
    " ```"
   ]
  },
  {
   "cell_type": "code",
   "execution_count": 2,
   "metadata": {},
   "outputs": [
    {
     "name": "stdout",
     "output_type": "stream",
     "text": [
      "red\n",
      "yellow\n",
      "green\n",
      "blue\n",
      "black\n",
      "white\n"
     ]
    }
   ],
   "source": [
    "color = ['red','yellow','green','blue','black','white']\n",
    "\n",
    "for colors in color:\n",
    "    print(colors)"
   ]
  },
  {
   "cell_type": "code",
   "execution_count": 6,
   "metadata": {},
   "outputs": [
    {
     "name": "stdout",
     "output_type": "stream",
     "text": [
      "Length of color red is 3\n",
      "Length of color yellow is 6\n",
      "Length of color green is 5\n",
      "Length of color blue is 4\n",
      "Length of color black is 5\n",
      "Length of color white is 5\n"
     ]
    }
   ],
   "source": [
    "for i in color:\n",
    "    print(f'Length of color {i} is {len(i)}')"
   ]
  },
  {
   "cell_type": "code",
   "execution_count": 13,
   "metadata": {},
   "outputs": [
    {
     "name": "stdout",
     "output_type": "stream",
     "text": [
      "The letter 'e' was in color red \n",
      "The letter 'e' was in color yellow \n",
      "The letter 'e' was in color green \n",
      "The letter 'e' was in color blue \n",
      "The letter 'e' was in color white \n"
     ]
    }
   ],
   "source": [
    "# To check whether color contains word 'e' and print them\n",
    "\n",
    "for item in color:\n",
    "    if 'e' in item:\n",
    "        print(f\"The letter 'e' was in color {item} \")"
   ]
  },
  {
   "cell_type": "code",
   "execution_count": 20,
   "metadata": {},
   "outputs": [
    {
     "name": "stdout",
     "output_type": "stream",
     "text": [
      "alex\n",
      "rahul\n",
      "sonu\n",
      "raman\n"
     ]
    }
   ],
   "source": [
    "raw_data = ['alex','rahul','','sonu','raman','']\n",
    "\n",
    "for name in raw_data:\n",
    "    if len(name)>0:         #conditions to check length of name if it is greater than zero then print otherwise not\n",
    "        print(name)"
   ]
  },
  {
   "cell_type": "code",
   "execution_count": 32,
   "metadata": {},
   "outputs": [
    {
     "name": "stdout",
     "output_type": "stream",
     "text": [
      "alex\n",
      "rahul\n",
      "sonu\n",
      "raman\n"
     ]
    }
   ],
   "source": [
    "for name in raw_data:\n",
    "    if not name:\n",
    "        continue            #conditions to check length of name if it is greater than zero then print otherwise not\n",
    "    print(name)"
   ]
  },
  {
   "cell_type": "code",
   "execution_count": 33,
   "metadata": {},
   "outputs": [
    {
     "name": "stdout",
     "output_type": "stream",
     "text": [
      "2\n",
      "4\n"
     ]
    }
   ],
   "source": [
    "number = [2,4,5,6,7,8]\n",
    "\n",
    "for i in number:\n",
    "    if i%2!=0:\n",
    "        break                             #using break\n",
    "    print(i)"
   ]
  },
  {
   "cell_type": "markdown",
   "metadata": {},
   "source": [
    "### Aggregation Logic"
   ]
  },
  {
   "cell_type": "code",
   "execution_count": 35,
   "metadata": {},
   "outputs": [
    {
     "name": "stdout",
     "output_type": "stream",
     "text": [
      "13440\n"
     ]
    }
   ],
   "source": [
    "total = 1\n",
    "for i in number:\n",
    "    total*=i\n",
    "print(total)"
   ]
  },
  {
   "cell_type": "code",
   "execution_count": 37,
   "metadata": {},
   "outputs": [
    {
     "name": "stdout",
     "output_type": "stream",
     "text": [
      "8 spaces found\n"
     ]
    }
   ],
   "source": [
    "msg = \"This is a simple message with a few words\"\n",
    "# count the number of spaces using loops\n",
    "count = 0\n",
    "for char in msg:\n",
    "    if(char == ' '):\n",
    "        count+=1\n",
    "print(f'{count} spaces found')"
   ]
  },
  {
   "cell_type": "code",
   "execution_count": 38,
   "metadata": {},
   "outputs": [
    {
     "data": {
      "text/plain": [
       "8"
      ]
     },
     "execution_count": 38,
     "metadata": {},
     "output_type": "execute_result"
    }
   ],
   "source": [
    "msg.count(' ')                     #counting space using count()"
   ]
  },
  {
   "cell_type": "code",
   "execution_count": 39,
   "metadata": {},
   "outputs": [
    {
     "name": "stdout",
     "output_type": "stream",
     "text": [
      "0 book1\n",
      "1 book2\n",
      "2 book3\n"
     ]
    }
   ],
   "source": [
    "books = ['book1','book2','book3']\n",
    "\n",
    "index = 0 \n",
    "for book in books:\n",
    "    print(f\"{index} {book}\")\n",
    "    index+=1"
   ]
  },
  {
   "cell_type": "code",
   "execution_count": 41,
   "metadata": {},
   "outputs": [
    {
     "name": "stdout",
     "output_type": "stream",
     "text": [
      "0 is the index value of book book1\n",
      "1 is the index value of book book2\n",
      "2 is the index value of book book3\n"
     ]
    }
   ],
   "source": [
    "# using enumerate functions\n",
    "for index,value in enumerate(books):\n",
    "    print(f'{index} is the index value of book {value}')"
   ]
  },
  {
   "cell_type": "code",
   "execution_count": 43,
   "metadata": {},
   "outputs": [
    {
     "name": "stdout",
     "output_type": "stream",
     "text": [
      "aman\n",
      "alex\n",
      "brutus\n"
     ]
    }
   ],
   "source": [
    "name = ['aman','alex','brutus','raj']\n",
    "for index,i in enumerate(name):\n",
    "    if index == 3:\n",
    "        break\n",
    "    print(i)"
   ]
  },
  {
   "cell_type": "code",
   "execution_count": null,
   "metadata": {},
   "outputs": [],
   "source": []
  }
 ],
 "metadata": {
  "kernelspec": {
   "display_name": "base",
   "language": "python",
   "name": "python3"
  },
  "language_info": {
   "codemirror_mode": {
    "name": "ipython",
    "version": 3
   },
   "file_extension": ".py",
   "mimetype": "text/x-python",
   "name": "python",
   "nbconvert_exporter": "python",
   "pygments_lexer": "ipython3",
   "version": "3.11.4"
  },
  "orig_nbformat": 4
 },
 "nbformat": 4,
 "nbformat_minor": 2
}
