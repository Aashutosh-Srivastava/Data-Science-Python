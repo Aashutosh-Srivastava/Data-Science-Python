{
 "cells": [
  {
   "cell_type": "markdown",
   "metadata": {},
   "source": [
    "# Functions in python"
   ]
  },
  {
   "cell_type": "markdown",
   "metadata": {},
   "source": [
    "### Built in functions  <a href =\"https://docs.python.org/3/library/functions.html\"></a>\n",
    " - print()\n",
    " - type()\n",
    " - input()\n",
    "- For casting datatypes\n",
    "    - int()\n",
    "    - float()\n",
    "    - str()\n",
    "    - bool()\n",
    "    - list()\n",
    "    - tuple()\n",
    "    - dict()\n",
    "- for statistics\n",
    "    - len()\n",
    "    - max()\n",
    "    - min()\n",
    "    - sum()\n",
    "- for utility\n",
    "    - sorted()\n",
    "    - zip()\n",
    "    - reversed()\n",
    "    - eval()\n",
    "- operation on interable\n",
    "    - all()\n",
    "    - any()\n",
    "    - enumerate()\n",
    "    "
   ]
  },
  {
   "cell_type": "code",
   "execution_count": 14,
   "metadata": {},
   "outputs": [
    {
     "data": {
      "text/plain": [
       "['is', 'an', 'this', 'example']"
      ]
     },
     "execution_count": 14,
     "metadata": {},
     "output_type": "execute_result"
    }
   ],
   "source": [
    "x = ['a','c','g','b','x','e']\n",
    "y = \"this is an example\"\n",
    "sorted(x)\n",
    "sorted(x, reverse=True)      \n",
    "sorted(y.split(),reverse = True)\n",
    "sorted(y.split(),key=len)"
   ]
  },
  {
   "cell_type": "code",
   "execution_count": 17,
   "metadata": {},
   "outputs": [],
   "source": [
    "# list(reversed(y)) #lazy object"
   ]
  },
  {
   "cell_type": "code",
   "execution_count": 22,
   "metadata": {},
   "outputs": [
    {
     "name": "stdout",
     "output_type": "stream",
     "text": [
      "False\n",
      "True\n",
      "False\n"
     ]
    }
   ],
   "source": [
    "x = [0,0,0,0,0,0,0,1,0,0,0]\n",
    "print(all(x))     \n",
    "\n",
    "y= ['this','is','an','example']\n",
    "print(all(y))\n",
    "y= ['this','is','','example']\n",
    "print(all(y))"
   ]
  },
  {
   "cell_type": "code",
   "execution_count": 23,
   "metadata": {},
   "outputs": [
    {
     "name": "stdout",
     "output_type": "stream",
     "text": [
      "True\n"
     ]
    }
   ],
   "source": [
    "z = [0,0,0,0,0,0,2]\n",
    "print(any(z))"
   ]
  },
  {
   "cell_type": "code",
   "execution_count": 27,
   "metadata": {},
   "outputs": [
    {
     "name": "stdout",
     "output_type": "stream",
     "text": [
      "166\n",
      "562\n",
      "1200\n",
      "2080\n",
      "4566\n",
      "16\n"
     ]
    }
   ],
   "source": [
    "f = lambda x: x**2 + x + 10\n",
    "data = [12,23,34,45,67,2]\n",
    "for val in data:\n",
    "    print(f(val))"
   ]
  },
  {
   "cell_type": "code",
   "execution_count": 32,
   "metadata": {},
   "outputs": [
    {
     "data": {
      "text/plain": [
       "[166, 562, 1200, 2080, 4566, 16]"
      ]
     },
     "execution_count": 32,
     "metadata": {},
     "output_type": "execute_result"
    }
   ],
   "source": [
    "#map (function,iterable)   # important function to use \n",
    "\n",
    "map(f,data) #lazy object as it returns <map at 0x28305921300> so we convert them to other data type\n",
    "list(map(f,data))  \n"
   ]
  },
  {
   "cell_type": "code",
   "execution_count": 31,
   "metadata": {},
   "outputs": [
    {
     "name": "stdout",
     "output_type": "stream",
     "text": [
      "[2, 4, 6]\n"
     ]
    }
   ],
   "source": [
    "nums = ['2','4','6']\n",
    "clean_list = map(int,nums)\n",
    "print(list(clean_list))"
   ]
  },
  {
   "cell_type": "code",
   "execution_count": 35,
   "metadata": {},
   "outputs": [
    {
     "data": {
      "text/plain": [
       "[1, 2, 3, 4, 4, 5, 6, 8]"
      ]
     },
     "execution_count": 35,
     "metadata": {},
     "output_type": "execute_result"
    }
   ],
   "source": [
    "num = [1,2,3,4,0,0,4,0,5,0,6,0,8]   #returns only true values and removes garbage value\n",
    "list(filter(lambda i : i !=0, num))"
   ]
  },
  {
   "cell_type": "code",
   "execution_count": 38,
   "metadata": {},
   "outputs": [
    {
     "data": {
      "text/plain": [
       "True"
      ]
     },
     "execution_count": 38,
     "metadata": {},
     "output_type": "execute_result"
    }
   ],
   "source": [
    "isinstance(x,int)\n",
    "isinstance(y,(int,float))\n",
    "isinstance(x,(list,tuple))"
   ]
  },
  {
   "cell_type": "code",
   "execution_count": null,
   "metadata": {},
   "outputs": [],
   "source": []
  }
 ],
 "metadata": {
  "kernelspec": {
   "display_name": "base",
   "language": "python",
   "name": "python3"
  },
  "language_info": {
   "codemirror_mode": {
    "name": "ipython",
    "version": 3
   },
   "file_extension": ".py",
   "mimetype": "text/x-python",
   "name": "python",
   "nbconvert_exporter": "python",
   "pygments_lexer": "ipython3",
   "version": "3.11.4"
  },
  "orig_nbformat": 4
 },
 "nbformat": 4,
 "nbformat_minor": 2
}
