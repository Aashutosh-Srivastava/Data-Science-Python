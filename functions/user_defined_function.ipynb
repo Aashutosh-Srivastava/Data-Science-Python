{
 "cells": [
  {
   "cell_type": "markdown",
   "metadata": {},
   "source": [
    "# User Defined functions"
   ]
  },
  {
   "cell_type": "markdown",
   "metadata": {},
   "source": [
    "### Non parametrized functions"
   ]
  },
  {
   "cell_type": "code",
   "execution_count": 2,
   "metadata": {},
   "outputs": [],
   "source": [
    "# def is a keyword used to define function\n",
    "def message():\n",
    "    print(\"Good Morning\")"
   ]
  },
  {
   "cell_type": "code",
   "execution_count": 4,
   "metadata": {},
   "outputs": [
    {
     "name": "stdout",
     "output_type": "stream",
     "text": [
      "Good Morning\n"
     ]
    }
   ],
   "source": [
    "message()   #calling a function"
   ]
  },
  {
   "cell_type": "code",
   "execution_count": 10,
   "metadata": {},
   "outputs": [
    {
     "name": "stdout",
     "output_type": "stream",
     "text": [
      "Simple interest is 0.4\n"
     ]
    }
   ],
   "source": [
    "def si():\n",
    "    p = int(input(\"Enter principal amount\"))\n",
    "    r = int(input(\"Enter your rate of interest \"))\n",
    "    t = int(input(\"Enter your time period\"))\n",
    "    si  = p*r*t/100\n",
    "    print(f\"Simple interest is {si}\")\n",
    "    \n",
    "si()  #calling si function"
   ]
  },
  {
   "cell_type": "markdown",
   "metadata": {},
   "source": [
    "### Parameterized functions"
   ]
  },
  {
   "cell_type": "code",
   "execution_count": 12,
   "metadata": {},
   "outputs": [
    {
     "name": "stdout",
     "output_type": "stream",
     "text": [
      "Hypotenuse is 5.0\n"
     ]
    }
   ],
   "source": [
    "#Requirement parameters\n",
    "def hypotenuse(p,b):\n",
    "    h = (p**2 + b**2)**.5\n",
    "    print(f\"Hypotenuse is {h}\")\n",
    "    \n",
    "hypotenuse(3,4)"
   ]
  },
  {
   "cell_type": "code",
   "execution_count": 20,
   "metadata": {},
   "outputs": [
    {
     "name": "stdout",
     "output_type": "stream",
     "text": [
      "Hypotenuse is 5.0\n"
     ]
    }
   ],
   "source": [
    "#Requirement parameters\n",
    "def hypotenuse1(p:int,b:int):\n",
    "    '''\n",
    "    this func() takes perpendicular and base to calculate hypotenuse of a triangle\n",
    "    '''\n",
    "    h = (p**2 + b**2)**.5\n",
    "    print(f\"Hypotenuse is {h}\")\n",
    "    \n",
    "hypotenuse1(4,3)"
   ]
  },
  {
   "cell_type": "code",
   "execution_count": 31,
   "metadata": {},
   "outputs": [],
   "source": [
    "#setting default values of c and d and calling func()with only 2 arguments\n",
    "def sum1(a,b,c=11,d=2):\n",
    "    s = a+b+c+d\n",
    "    print(f\"The sum is {s}\")\n",
    "\n",
    "# sum(12,23)\n",
    "# sum(11,22,11,2)"
   ]
  },
  {
   "cell_type": "code",
   "execution_count": 29,
   "metadata": {},
   "outputs": [
    {
     "name": "stdout",
     "output_type": "stream",
     "text": [
      "3.14\n"
     ]
    }
   ],
   "source": [
    "def area_circle(radii = 1):\n",
    "    area = 3.14* radii**2\n",
    "    print(area)\n",
    "area_circle()"
   ]
  },
  {
   "cell_type": "markdown",
   "metadata": {},
   "source": [
    "### Keywords arguments "
   ]
  },
  {
   "cell_type": "code",
   "execution_count": 28,
   "metadata": {},
   "outputs": [
    {
     "name": "stdout",
     "output_type": "stream",
     "text": [
      "The sum is 24\n"
     ]
    }
   ],
   "source": [
    "# sum(a=3,b=6,d=8,c=7)"
   ]
  },
  {
   "cell_type": "markdown",
   "metadata": {},
   "source": [
    "### variable arguments    -->  Data Type Tuple"
   ]
  },
  {
   "cell_type": "code",
   "execution_count": 33,
   "metadata": {},
   "outputs": [],
   "source": [
    "# del sum"
   ]
  },
  {
   "cell_type": "code",
   "execution_count": 34,
   "metadata": {},
   "outputs": [
    {
     "name": "stdout",
     "output_type": "stream",
     "text": [
      "5.0\n"
     ]
    }
   ],
   "source": [
    "def mean(*data):\n",
    "    ans = sum(data)/len(data)\n",
    "    print(ans)\n",
    "mean(1,2,3,4,5,6,7,8,9)"
   ]
  },
  {
   "cell_type": "markdown",
   "metadata": {},
   "source": [
    "### Variable Keywords Argument   -->  Data Type Dictionary"
   ]
  },
  {
   "cell_type": "code",
   "execution_count": 6,
   "metadata": {},
   "outputs": [
    {
     "name": "stdout",
     "output_type": "stream",
     "text": [
      "name       Bring Food\n",
      "detail     Brinjal,Potato\n",
      "budget     200\n"
     ]
    }
   ],
   "source": [
    "def task(**details):                 \n",
    "    for name,value in details.items():\n",
    "        print(f'{name:10} {value}')\n",
    "\n",
    "task(name =\"Bring Food\",\n",
    "    detail =\"Brinjal,Potato\",\n",
    "    budget =200)\n",
    "\n"
   ]
  },
  {
   "cell_type": "markdown",
   "metadata": {},
   "source": [
    "### function return value"
   ]
  },
  {
   "cell_type": "code",
   "execution_count": 9,
   "metadata": {},
   "outputs": [
    {
     "data": {
      "text/plain": [
       "'Hypotenuse is 5.0'"
      ]
     },
     "execution_count": 9,
     "metadata": {},
     "output_type": "execute_result"
    }
   ],
   "source": [
    "def hypotenuse1(p:int,b:int):\n",
    "    '''\n",
    "    this func() takes perpendicular and base to calculate hypotenuse of a triangle\n",
    "    '''\n",
    "    h = (p**2 + b**2)**.5\n",
    "    return(f\"Hypotenuse is {h}\")\n",
    "    \n",
    "hypotenuse1(4,3)"
   ]
  },
  {
   "cell_type": "code",
   "execution_count": 10,
   "metadata": {},
   "outputs": [
    {
     "data": {
      "text/plain": [
       "24"
      ]
     },
     "execution_count": 10,
     "metadata": {},
     "output_type": "execute_result"
    }
   ],
   "source": [
    "def cube_area(side):\n",
    "    return 6*side**2\n",
    "\n",
    "cube_area(2)"
   ]
  },
  {
   "cell_type": "code",
   "execution_count": 11,
   "metadata": {},
   "outputs": [
    {
     "data": {
      "text/plain": [
       "27"
      ]
     },
     "execution_count": 11,
     "metadata": {},
     "output_type": "execute_result"
    }
   ],
   "source": [
    "#example 2\n",
    "def cube_vol(side):\n",
    "    return side**3\n",
    "\n",
    "cube_vol(3)"
   ]
  },
  {
   "cell_type": "code",
   "execution_count": 40,
   "metadata": {},
   "outputs": [
    {
     "data": {
      "text/plain": [
       "[8]"
      ]
     },
     "execution_count": 40,
     "metadata": {},
     "output_type": "execute_result"
    }
   ],
   "source": [
    "#example 3\n",
    "# def length_count(str):\n",
    "#     return len(str)\n",
    "# length_count(\"This is a string\")\n",
    "\n",
    "#example4\n",
    "\n",
    "def find_indexes(substr,content):\n",
    "    start_pos = 0\n",
    "    idx_list = []\n",
    "    for i in range(content.count(substr)):\n",
    "        idx = content.find(substr,start_pos)\n",
    "        if idx == -1:\n",
    "            break\n",
    "        idx_list.append(idx)\n",
    "        start_pos = idx + 1\n",
    "    return idx_list\n",
    "\n",
    "find_indexes(\"a\",'this is a dummy text')"
   ]
  },
  {
   "cell_type": "code",
   "execution_count": 47,
   "metadata": {},
   "outputs": [
    {
     "name": "stdout",
     "output_type": "stream",
     "text": [
      "this is | is good | good text | text to | to check | check bi | bi grams | "
     ]
    }
   ],
   "source": [
    "#extract all bi-grams from a string using a function\n",
    "\n",
    "def extract_bigrams(input = \"this is good text to check bi grams\"):\n",
    "    words = input.split() # split the words into list of strings\n",
    "    f,s = 0,1\n",
    "    for i in range (len(words)):\n",
    "        if s == len(words):\n",
    "            break\n",
    "        print(words[f],words[s],end=\" | \")\n",
    "        f+=1\n",
    "        s+=1\n",
    "extract_bigrams()"
   ]
  },
  {
   "cell_type": "code",
   "execution_count": 51,
   "metadata": {},
   "outputs": [
    {
     "data": {
      "text/plain": [
       "'HEy'"
      ]
     },
     "execution_count": 51,
     "metadata": {},
     "output_type": "execute_result"
    }
   ],
   "source": [
    "from string import punctuation\n",
    "def rmv_punctuation(text):\n",
    "    for p in punctuation:\n",
    "        text = text.replace(p,'')\n",
    "    return text\n",
    "    \n",
    "\n",
    "rmv_punctuation (\"HEy%^&%\")\n"
   ]
  },
  {
   "cell_type": "code",
   "execution_count": null,
   "metadata": {},
   "outputs": [],
   "source": []
  }
 ],
 "metadata": {
  "kernelspec": {
   "display_name": "base",
   "language": "python",
   "name": "python3"
  },
  "language_info": {
   "codemirror_mode": {
    "name": "ipython",
    "version": 3
   },
   "file_extension": ".py",
   "mimetype": "text/x-python",
   "name": "python",
   "nbconvert_exporter": "python",
   "pygments_lexer": "ipython3",
   "version": "3.11.4"
  },
  "orig_nbformat": 4
 },
 "nbformat": 4,
 "nbformat_minor": 2
}
