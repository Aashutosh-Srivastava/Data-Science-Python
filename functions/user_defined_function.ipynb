{
 "cells": [
  {
   "cell_type": "markdown",
   "metadata": {},
   "source": [
    "# User Defined functions"
   ]
  },
  {
   "cell_type": "markdown",
   "metadata": {},
   "source": [
    "### Non parametrized functions"
   ]
  },
  {
   "cell_type": "code",
   "execution_count": 2,
   "metadata": {},
   "outputs": [],
   "source": [
    "# def is a keyword used to define function\n",
    "def message():\n",
    "    print(\"Good Morning\")"
   ]
  },
  {
   "cell_type": "code",
   "execution_count": 4,
   "metadata": {},
   "outputs": [
    {
     "name": "stdout",
     "output_type": "stream",
     "text": [
      "Good Morning\n"
     ]
    }
   ],
   "source": [
    "message()   #calling a function"
   ]
  },
  {
   "cell_type": "code",
   "execution_count": 10,
   "metadata": {},
   "outputs": [
    {
     "name": "stdout",
     "output_type": "stream",
     "text": [
      "Simple interest is 0.4\n"
     ]
    }
   ],
   "source": [
    "def si():\n",
    "    p = int(input(\"Enter principal amount\"))\n",
    "    r = int(input(\"Enter your rate of interest \"))\n",
    "    t = int(input(\"Enter your time period\"))\n",
    "    si  = p*r*t/100\n",
    "    print(f\"Simple interest is {si}\")\n",
    "    \n",
    "si()  #calling si function"
   ]
  },
  {
   "cell_type": "markdown",
   "metadata": {},
   "source": [
    "### Parameterized functions"
   ]
  },
  {
   "cell_type": "code",
   "execution_count": 12,
   "metadata": {},
   "outputs": [
    {
     "name": "stdout",
     "output_type": "stream",
     "text": [
      "Hypotenuse is 5.0\n"
     ]
    }
   ],
   "source": [
    "#Requirement parameters\n",
    "def hypotenuse(p,b):\n",
    "    h = (p**2 + b**2)**.5\n",
    "    print(f\"Hypotenuse is {h}\")\n",
    "    \n",
    "hypotenuse(3,4)"
   ]
  },
  {
   "cell_type": "code",
   "execution_count": 20,
   "metadata": {},
   "outputs": [
    {
     "name": "stdout",
     "output_type": "stream",
     "text": [
      "Hypotenuse is 5.0\n"
     ]
    }
   ],
   "source": [
    "#Requirement parameters\n",
    "def hypotenuse1(p:int,b:int):\n",
    "    '''\n",
    "    this func() takes perpendicular and base to calculate hypotenuse of a triangle\n",
    "    '''\n",
    "    h = (p**2 + b**2)**.5\n",
    "    print(f\"Hypotenuse is {h}\")\n",
    "    \n",
    "hypotenuse1(4,3)"
   ]
  },
  {
   "cell_type": "code",
   "execution_count": 31,
   "metadata": {},
   "outputs": [],
   "source": [
    "#setting default values of c and d and calling func()with only 2 arguments\n",
    "def sum1(a,b,c=11,d=2):\n",
    "    s = a+b+c+d\n",
    "    print(f\"The sum is {s}\")\n",
    "\n",
    "# sum(12,23)\n",
    "# sum(11,22,11,2)"
   ]
  },
  {
   "cell_type": "code",
   "execution_count": 29,
   "metadata": {},
   "outputs": [
    {
     "name": "stdout",
     "output_type": "stream",
     "text": [
      "3.14\n"
     ]
    }
   ],
   "source": [
    "def area_circle(radii = 1):\n",
    "    area = 3.14* radii**2\n",
    "    print(area)\n",
    "area_circle()"
   ]
  },
  {
   "cell_type": "markdown",
   "metadata": {},
   "source": [
    "### Keywords arguments "
   ]
  },
  {
   "cell_type": "code",
   "execution_count": 28,
   "metadata": {},
   "outputs": [
    {
     "name": "stdout",
     "output_type": "stream",
     "text": [
      "The sum is 24\n"
     ]
    }
   ],
   "source": [
    "# sum(a=3,b=6,d=8,c=7)"
   ]
  },
  {
   "cell_type": "markdown",
   "metadata": {},
   "source": [
    "### variable arguments"
   ]
  },
  {
   "cell_type": "code",
   "execution_count": 33,
   "metadata": {},
   "outputs": [],
   "source": [
    "# del sum"
   ]
  },
  {
   "cell_type": "code",
   "execution_count": 34,
   "metadata": {},
   "outputs": [
    {
     "name": "stdout",
     "output_type": "stream",
     "text": [
      "5.0\n"
     ]
    }
   ],
   "source": [
    "def mean(*data):\n",
    "    ans = sum(data)/len(data)\n",
    "    print(ans)\n",
    "mean(1,2,3,4,5,6,7,8,9)"
   ]
  },
  {
   "cell_type": "code",
   "execution_count": null,
   "metadata": {},
   "outputs": [],
   "source": []
  }
 ],
 "metadata": {
  "kernelspec": {
   "display_name": "base",
   "language": "python",
   "name": "python3"
  },
  "language_info": {
   "codemirror_mode": {
    "name": "ipython",
    "version": 3
   },
   "file_extension": ".py",
   "mimetype": "text/x-python",
   "name": "python",
   "nbconvert_exporter": "python",
   "pygments_lexer": "ipython3",
   "version": "3.11.4"
  },
  "orig_nbformat": 4
 },
 "nbformat": 4,
 "nbformat_minor": 2
}
