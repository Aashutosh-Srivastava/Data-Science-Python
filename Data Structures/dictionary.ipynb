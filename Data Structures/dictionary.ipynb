{
 "cells": [
  {
   "cell_type": "code",
   "execution_count": 2,
   "metadata": {},
   "outputs": [
    {
     "name": "stdout",
     "output_type": "stream",
     "text": [
      "{'Brand': 'Mahindra', 'model': 'XUV', 'Series': '500', 'Type': 'Diesel', 'Capacity': 30, 'color': ['Black', 'White'], 'is_4wd': True}\n"
     ]
    }
   ],
   "source": [
    "# x = ['xuv','500','UP322002',30,10,'Mahindra','Diesel',True,True,False]\n",
    "\n",
    "x = {'Brand': 'Mahindra','model':'XUV','Series':'500','Type':'Diesel','Capacity':30, 'color': ['Black','White'],'is_4wd':True}\n",
    "print(x)"
   ]
  },
  {
   "cell_type": "code",
   "execution_count": 3,
   "metadata": {},
   "outputs": [
    {
     "data": {
      "text/plain": [
       "dict"
      ]
     },
     "execution_count": 3,
     "metadata": {},
     "output_type": "execute_result"
    }
   ],
   "source": [
    "type(x)"
   ]
  },
  {
   "cell_type": "markdown",
   "metadata": {},
   "source": [
    "- add items\n",
    "- update items\n",
    "- remove items\n",
    "- traverse items"
   ]
  },
  {
   "cell_type": "code",
   "execution_count": 4,
   "metadata": {},
   "outputs": [
    {
     "data": {
      "text/plain": [
       "{'name': 'RAJ'}"
      ]
     },
     "execution_count": 4,
     "metadata": {},
     "output_type": "execute_result"
    }
   ],
   "source": [
    "info = {} #Empty Dict\n",
    "# Dict_name['new_key'] = 'New_value'   #adding data to dict\n",
    "info[\"name\"] = \"RAJ\"\n",
    "info"
   ]
  },
  {
   "cell_type": "code",
   "execution_count": 6,
   "metadata": {},
   "outputs": [
    {
     "data": {
      "text/plain": [
       "{'name': 'RAJ', 'Last_name': 'Kundra', 'age': '30'}"
      ]
     },
     "execution_count": 6,
     "metadata": {},
     "output_type": "execute_result"
    }
   ],
   "source": [
    "info['Last_name'] = 'Kundra'\n",
    "info[\"age\"] = '30'\n",
    "info"
   ]
  },
  {
   "cell_type": "code",
   "execution_count": 8,
   "metadata": {},
   "outputs": [
    {
     "data": {
      "text/plain": [
       "{'name': 'RAJ', 'Last_name': 'Kundra', 'age': '34'}"
      ]
     },
     "execution_count": 8,
     "metadata": {},
     "output_type": "execute_result"
    }
   ],
   "source": [
    "#updation in dict\n",
    "# dict_name[\"existing_key\"] = 'New_value'\n",
    "info[\"age\"] = '34'\n",
    "info"
   ]
  },
  {
   "cell_type": "code",
   "execution_count": 27,
   "metadata": {},
   "outputs": [
    {
     "name": "stdout",
     "output_type": "stream",
     "text": [
      "{'Last_name': 'Kundra', 'phone': 'Redmi'}\n"
     ]
    }
   ],
   "source": [
    "#removing data\n",
    "# dict.pop(\"existing_key\")\n",
    "# info.pop('name')\n",
    "# info.pop('age')\n",
    "# info[\"phone\"] = \"Redmi\"\n",
    "print(info)"
   ]
  },
  {
   "cell_type": "markdown",
   "metadata": {},
   "source": [
    "### extracting key and value\n",
    "- dict.keys()\n",
    "- dict.values()\n",
    "- dict.items()"
   ]
  },
  {
   "cell_type": "code",
   "execution_count": 31,
   "metadata": {},
   "outputs": [
    {
     "name": "stdout",
     "output_type": "stream",
     "text": [
      "dict_keys(['Last_name', 'phone'])\n",
      "dict_values(['Kundra', 'Redmi'])\n",
      "dict_items([('Last_name', 'Kundra'), ('phone', 'Redmi')])\n"
     ]
    },
    {
     "data": {
      "text/plain": [
       "'Redmi'"
      ]
     },
     "execution_count": 31,
     "metadata": {},
     "output_type": "execute_result"
    }
   ],
   "source": [
    "print(info.keys())\n",
    "print(info.values())\n",
    "print(info.items())\n",
    "info.pop(\"phone\")"
   ]
  },
  {
   "cell_type": "markdown",
   "metadata": {},
   "source": [
    "Fetch data from dict\n",
    "\n",
    "```\n",
    "dict['key']     #Throws error when key not exist\n",
    "```\n",
    "```\n",
    "dict.get[\"key\"]   #does not throw error when key not exist\n",
    "```"
   ]
  },
  {
   "cell_type": "code",
   "execution_count": 38,
   "metadata": {},
   "outputs": [
    {
     "name": "stdout",
     "output_type": "stream",
     "text": [
      "['Black', 'White']\n",
      "True\n"
     ]
    }
   ],
   "source": [
    "print(x[\"color\"])\n",
    "print(x[\"is_4wd\"])\n",
    "# print(x[\"Price\"])"
   ]
  },
  {
   "cell_type": "code",
   "execution_count": 36,
   "metadata": {},
   "outputs": [
    {
     "name": "stdout",
     "output_type": "stream",
     "text": [
      "Mahindra\n",
      "None\n"
     ]
    }
   ],
   "source": [
    "print(x.get(\"Brand\"))\n",
    "print(x.get(\"Price\"))"
   ]
  },
  {
   "cell_type": "markdown",
   "metadata": {},
   "source": [
    "### traversal in dict"
   ]
  },
  {
   "cell_type": "code",
   "execution_count": 39,
   "metadata": {},
   "outputs": [
    {
     "name": "stdout",
     "output_type": "stream",
     "text": [
      "Brand\n",
      "model\n",
      "Series\n",
      "Type\n",
      "Capacity\n",
      "color\n",
      "is_4wd\n"
     ]
    }
   ],
   "source": [
    "\n",
    "for i in x:\n",
    "    print(i)"
   ]
  },
  {
   "cell_type": "code",
   "execution_count": 40,
   "metadata": {},
   "outputs": [
    {
     "name": "stdout",
     "output_type": "stream",
     "text": [
      "Mahindra\n",
      "XUV\n",
      "500\n",
      "Diesel\n",
      "30\n",
      "['Black', 'White']\n",
      "True\n"
     ]
    }
   ],
   "source": [
    "for i in x:\n",
    "    print(x[i])"
   ]
  },
  {
   "cell_type": "code",
   "execution_count": 43,
   "metadata": {},
   "outputs": [
    {
     "name": "stdout",
     "output_type": "stream",
     "text": [
      "Brand --> Mahindra\n",
      "model --> XUV\n",
      "Series --> 500\n",
      "Type --> Diesel\n",
      "Capacity --> 30\n",
      "color --> ['Black', 'White']\n",
      "is_4wd --> True\n"
     ]
    }
   ],
   "source": [
    "for i in x:\n",
    "    print(i,\"-->\",x[i])"
   ]
  },
  {
   "cell_type": "code",
   "execution_count": 42,
   "metadata": {},
   "outputs": [
    {
     "name": "stdout",
     "output_type": "stream",
     "text": [
      "Brand --> Mahindra\n",
      "model --> XUV\n",
      "Series --> 500\n",
      "Type --> Diesel\n",
      "Capacity --> 30\n",
      "color --> ['Black', 'White']\n",
      "is_4wd --> True\n"
     ]
    }
   ],
   "source": [
    "for k,v in x.items():\n",
    "    print(k,\"-->\",v)"
   ]
  },
  {
   "cell_type": "code",
   "execution_count": 45,
   "metadata": {},
   "outputs": [],
   "source": [
    "data ={\n",
    "  \"sol_keys\": [], \n",
    "  \"validity_checks\": {\n",
    "    \"1219\": {\n",
    "      \"AT\": {\n",
    "        \"sol_hours_with_data\": [\n",
    "          6, \n",
    "          7, \n",
    "          8, \n",
    "          9, \n",
    "          10, \n",
    "          11, \n",
    "          12\n",
    "        ], \n",
    "        \"valid\": False\n",
    "      }, \n",
    "      \"HWS\": {\n",
    "        \"sol_hours_with_data\": [\n",
    "          6, \n",
    "          7, \n",
    "          8, \n",
    "          9, \n",
    "          10, \n",
    "          11, \n",
    "          12\n",
    "        ], \n",
    "        \"valid\": False\n",
    "      }, \n",
    "      \"PRE\": {\n",
    "        \"sol_hours_with_data\": [\n",
    "          6, \n",
    "          7, \n",
    "          8, \n",
    "          9, \n",
    "          10, \n",
    "          11, \n",
    "          12\n",
    "        ], \n",
    "        \"valid\": False\n",
    "      }, \n",
    "      \"WD\": {\n",
    "        \"sol_hours_with_data\": [\n",
    "          6, \n",
    "          7, \n",
    "          8, \n",
    "          9, \n",
    "          10, \n",
    "          11, \n",
    "          12\n",
    "        ], \n",
    "        \"valid\": False\n",
    "      }\n",
    "    }, \n",
    "    \"sol_hours_required\": 18, \n",
    "    \"sols_checked\": [\n",
    "      \"1219\"\n",
    "    ]\n",
    "  }\n",
    "}"
   ]
  },
  {
   "cell_type": "code",
   "execution_count": 52,
   "metadata": {},
   "outputs": [
    {
     "name": "stdout",
     "output_type": "stream",
     "text": [
      "sol_keys --> []\n",
      "validity_checks --> {'1219': {'AT': {'sol_hours_with_data': [6, 7, 8, 9, 10, 11, 12], 'valid': False}, 'HWS': {'sol_hours_with_data': [6, 7, 8, 9, 10, 11, 12], 'valid': False}, 'PRE': {'sol_hours_with_data': [6, 7, 8, 9, 10, 11, 12], 'valid': False}, 'WD': {'sol_hours_with_data': [6, 7, 8, 9, 10, 11, 12], 'valid': False}}, 'sol_hours_required': 18, 'sols_checked': ['1219']}\n",
      "1219 --> {'AT': {'sol_hours_with_data': [6, 7, 8, 9, 10, 11, 12], 'valid': False}, 'HWS': {'sol_hours_with_data': [6, 7, 8, 9, 10, 11, 12], 'valid': False}, 'PRE': {'sol_hours_with_data': [6, 7, 8, 9, 10, 11, 12], 'valid': False}, 'WD': {'sol_hours_with_data': [6, 7, 8, 9, 10, 11, 12], 'valid': False}}\n",
      "AT --> {'sol_hours_with_data': [6, 7, 8, 9, 10, 11, 12], 'valid': False}\n",
      "sol_hours_with_data --> [6, 7, 8, 9, 10, 11, 12]\n",
      "valid --> False\n",
      "HWS --> {'sol_hours_with_data': [6, 7, 8, 9, 10, 11, 12], 'valid': False}\n",
      "sol_hours_with_data --> [6, 7, 8, 9, 10, 11, 12]\n",
      "valid --> False\n",
      "PRE --> {'sol_hours_with_data': [6, 7, 8, 9, 10, 11, 12], 'valid': False}\n",
      "sol_hours_with_data --> [6, 7, 8, 9, 10, 11, 12]\n",
      "valid --> False\n",
      "WD --> {'sol_hours_with_data': [6, 7, 8, 9, 10, 11, 12], 'valid': False}\n",
      "sol_hours_with_data --> [6, 7, 8, 9, 10, 11, 12]\n",
      "valid --> False\n",
      "sol_hours_required --> 18\n",
      "sols_checked --> ['1219']\n"
     ]
    }
   ],
   "source": [
    "for k,v in data.items():\n",
    "    print(k,\"-->\",v)\n",
    "    if isinstance(v,dict):\n",
    "        for k1,v1 in v.items():\n",
    "            print(k1,\"-->\",v1)\n",
    "            if isinstance(v1,dict):\n",
    "                for k2,v2 in v1.items():\n",
    "                    print(k2,\"-->\",v2)\n",
    "                    if isinstance(v2,dict):\n",
    "                        for k3,v3 in v2.items():\n",
    "                         print(k3,\"-->\",v3)\n",
    "            "
   ]
  },
  {
   "cell_type": "code",
   "execution_count": 57,
   "metadata": {},
   "outputs": [
    {
     "name": "stdout",
     "output_type": "stream",
     "text": [
      "-sol_keys\n",
      "sol_keys --> []\n",
      "\t []\n",
      "-validity_checks\n",
      "validity_checks --> {'1219': {'AT': {'sol_hours_with_data': [6, 7, 8, 9, 10, 11, 12], 'valid': False}, 'HWS': {'sol_hours_with_data': [6, 7, 8, 9, 10, 11, 12], 'valid': False}, 'PRE': {'sol_hours_with_data': [6, 7, 8, 9, 10, 11, 12], 'valid': False}, 'WD': {'sol_hours_with_data': [6, 7, 8, 9, 10, 11, 12], 'valid': False}}, 'sol_hours_required': 18, 'sols_checked': ['1219']}\n",
      "-1219\n",
      "1219 --> {'AT': {'sol_hours_with_data': [6, 7, 8, 9, 10, 11, 12], 'valid': False}, 'HWS': {'sol_hours_with_data': [6, 7, 8, 9, 10, 11, 12], 'valid': False}, 'PRE': {'sol_hours_with_data': [6, 7, 8, 9, 10, 11, 12], 'valid': False}, 'WD': {'sol_hours_with_data': [6, 7, 8, 9, 10, 11, 12], 'valid': False}}\n",
      "-AT\n",
      "AT --> {'sol_hours_with_data': [6, 7, 8, 9, 10, 11, 12], 'valid': False}\n",
      "-sol_hours_with_data\n",
      "sol_hours_with_data --> [6, 7, 8, 9, 10, 11, 12]\n",
      "\t [6, 7, 8, 9, 10, 11, 12]\n",
      "-valid\n",
      "valid --> False\n",
      "\t False\n",
      "-HWS\n",
      "HWS --> {'sol_hours_with_data': [6, 7, 8, 9, 10, 11, 12], 'valid': False}\n",
      "-sol_hours_with_data\n",
      "sol_hours_with_data --> [6, 7, 8, 9, 10, 11, 12]\n",
      "\t [6, 7, 8, 9, 10, 11, 12]\n",
      "-valid\n",
      "valid --> False\n",
      "\t False\n",
      "-PRE\n",
      "PRE --> {'sol_hours_with_data': [6, 7, 8, 9, 10, 11, 12], 'valid': False}\n",
      "-sol_hours_with_data\n",
      "sol_hours_with_data --> [6, 7, 8, 9, 10, 11, 12]\n",
      "\t [6, 7, 8, 9, 10, 11, 12]\n",
      "-valid\n",
      "valid --> False\n",
      "\t False\n",
      "-WD\n",
      "WD --> {'sol_hours_with_data': [6, 7, 8, 9, 10, 11, 12], 'valid': False}\n",
      "-sol_hours_with_data\n",
      "sol_hours_with_data --> [6, 7, 8, 9, 10, 11, 12]\n",
      "\t [6, 7, 8, 9, 10, 11, 12]\n",
      "-valid\n",
      "valid --> False\n",
      "\t False\n",
      "-sol_hours_required\n",
      "sol_hours_required --> 18\n",
      "\t 18\n",
      "-sols_checked\n",
      "sols_checked --> ['1219']\n",
      "\t ['1219']\n"
     ]
    }
   ],
   "source": [
    "def extract(d):\n",
    "    for k,v in d.items():\n",
    "        print(f'-{k}')\n",
    "        print(k,\"-->\",v)\n",
    "        if isinstance(v,dict):\n",
    "            extract(v)\n",
    "        else:\n",
    "            print('\\t',v)\n",
    "            \n",
    "extract(data)"
   ]
  },
  {
   "cell_type": "code",
   "execution_count": null,
   "metadata": {},
   "outputs": [],
   "source": []
  }
 ],
 "metadata": {
  "kernelspec": {
   "display_name": "base",
   "language": "python",
   "name": "python3"
  },
  "language_info": {
   "codemirror_mode": {
    "name": "ipython",
    "version": 3
   },
   "file_extension": ".py",
   "mimetype": "text/x-python",
   "name": "python",
   "nbconvert_exporter": "python",
   "pygments_lexer": "ipython3",
   "version": "3.11.4"
  },
  "orig_nbformat": 4
 },
 "nbformat": 4,
 "nbformat_minor": 2
}
