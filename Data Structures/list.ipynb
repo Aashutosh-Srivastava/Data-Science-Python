{
 "cells": [
  {
   "cell_type": "markdown",
   "metadata": {},
   "source": [
    "## List Data Structure in Python\n",
    "- creating\n",
    "- indexing\n",
    "- slicing\n",
    "- methods\n",
    "- basics operations\n",
    "- comprehension"
   ]
  },
  {
   "cell_type": "code",
   "execution_count": 1,
   "metadata": {},
   "outputs": [],
   "source": [
    "X = []   #Empty List\n",
    "a = [1,2,3,4]    #numbered list\n",
    "b = [\"alex\",'alexa']  #alphabetical list\n",
    "c = [\"alexa\",34,5,\"alex\"] #mixed list\n",
    "d = [[1,2],[3,4],[4,5]]  #nested list\n"
   ]
  },
  {
   "cell_type": "code",
   "execution_count": 2,
   "metadata": {},
   "outputs": [
    {
     "name": "stdout",
     "output_type": "stream",
     "text": [
      "[1, 1, 1, 1, 1, 1, 1, 1, 1, 1]\n"
     ]
    }
   ],
   "source": [
    "w = [1]*10 #List Duplication\n",
    "print(w)"
   ]
  },
  {
   "cell_type": "code",
   "execution_count": 6,
   "metadata": {},
   "outputs": [
    {
     "name": "stdout",
     "output_type": "stream",
     "text": [
      "[1, 3, 5, 7, 9, 2, 4, 6, 8]\n",
      "[[1, 2, 3, 4], ['alex', 'alexa']]\n"
     ]
    }
   ],
   "source": [
    "L1 = [1,3,5,7,9]\n",
    "L2 = [2,4,6,8]\n",
    "\n",
    "L3 = L1+L2   #List Concatenation\n",
    "print(L3)\n",
    "\n",
    "D = [a,b] #nested List\n",
    "print(D)"
   ]
  },
  {
   "cell_type": "code",
   "execution_count": 12,
   "metadata": {},
   "outputs": [
    {
     "name": "stdout",
     "output_type": "stream",
     "text": [
      "[1, 2, 3]\n",
      "[7, 6, 5, 4, 3, 2, 1]\n",
      "[3, 4]\n",
      "[7, 5]\n",
      "[1, 3, 5, 7]\n",
      "2\n",
      "7\n"
     ]
    }
   ],
   "source": [
    "x = [1,2,3,4,5,6,7]\n",
    "print(x[:3])\n",
    "print(x[::-1])\n",
    "print(x[2:4])\n",
    "print(x[:3:-2])\n",
    "print(x[::2])\n",
    "print(x[1])\n",
    "print(x[-1])\n"
   ]
  },
  {
   "cell_type": "code",
   "execution_count": 16,
   "metadata": {},
   "outputs": [
    {
     "name": "stdout",
     "output_type": "stream",
     "text": [
      "1 2 3 4 5 6 7 "
     ]
    }
   ],
   "source": [
    "#Traversal\n",
    "for i in x:\n",
    "    print(i,end= \" \")"
   ]
  },
  {
   "cell_type": "markdown",
   "metadata": {},
   "source": [
    "### Methods\n",
    "- add\n",
    "   - append\n",
    "   - extend\n",
    "   - insert\n",
    "- remove\n",
    "   - remove\n",
    "   - pop\n",
    "   - clear\n",
    "- helper\n",
    "   - index\n",
    "   - count\n",
    "   - sort\n",
    "   - reverse\n",
    "   - copy"
   ]
  },
  {
   "cell_type": "code",
   "execution_count": 29,
   "metadata": {},
   "outputs": [
    {
     "name": "stdout",
     "output_type": "stream",
     "text": [
      "['The final Empire', 'The Hero', 'Warbreaker']\n",
      "['The final Empire', 'Warbreaker', 'The Hero', 'Warbreaker']\n",
      "['The final Empire', 'Warbreaker', 'The Hero', 'Warbreaker', 'Twilight Saga', 'Power of subconsious mind', 'Thank you']\n"
     ]
    }
   ],
   "source": [
    "books = []\n",
    "books.append('The final Empire')  #append()\n",
    "books.append('The Hero')\n",
    "books.append('Warbreaker')\n",
    "print(books)\n",
    "\n",
    "books.insert(1, 'Warbreaker')     #insert()\n",
    "print(books)\n",
    "\n",
    "crappybooks = [\"Twilight Saga\", \"Power of subconsious mind\",'Thank you']\n",
    "books.extend(crappybooks)    #extend()\n",
    "print(books)"
   ]
  },
  {
   "cell_type": "code",
   "execution_count": 30,
   "metadata": {},
   "outputs": [
    {
     "name": "stdout",
     "output_type": "stream",
     "text": [
      "[1, 3, 5, 7, 2, 4, 6, 8]\n"
     ]
    }
   ],
   "source": [
    "nums = [1,3,5,7]\n",
    "more_nums = [2,4,6,8]\n",
    "nums.extend(more_nums)\n",
    "print(nums)"
   ]
  },
  {
   "cell_type": "code",
   "execution_count": 40,
   "metadata": {},
   "outputs": [
    {
     "name": "stdout",
     "output_type": "stream",
     "text": [
      "The sum is: 15\n",
      "[1, 3, 6, 10, 15]\n"
     ]
    }
   ],
   "source": [
    "# x= []\n",
    "# for i in range(5):\n",
    "#     ans = input(\"enter value\")\n",
    "#     x+= ans \n",
    "# print(x)\n",
    "\n",
    "x= []\n",
    "total= 0\n",
    "for i in range(5):\n",
    "    a = int(input(\"enter value\"))\n",
    "    total +=a\n",
    "    x.append(total)\n",
    "print(f\"The sum is: {total}\")    \n",
    "print(x)\n",
    "\n",
    "    \n",
    "    "
   ]
  },
  {
   "cell_type": "code",
   "execution_count": 41,
   "metadata": {},
   "outputs": [
    {
     "data": {
      "text/plain": [
       "['The final Empire',\n",
       " 'Warbreaker',\n",
       " 'The Hero',\n",
       " 'Warbreaker',\n",
       " 'Twilight Saga',\n",
       " 'Power of subconsious mind',\n",
       " 'Thank you']"
      ]
     },
     "execution_count": 41,
     "metadata": {},
     "output_type": "execute_result"
    }
   ],
   "source": [
    "books"
   ]
  },
  {
   "cell_type": "code",
   "execution_count": 45,
   "metadata": {},
   "outputs": [
    {
     "name": "stdout",
     "output_type": "stream",
     "text": [
      "The Hero is removed\n"
     ]
    }
   ],
   "source": [
    "#remove()\n",
    "\n",
    "# books.remove(\"Warbreaker\")\n",
    "# books\n",
    "\n",
    "def safe_remove(val_to_remove):\n",
    "    if val_to_remove in books:\n",
    "        books.remove(val_to_remove)\n",
    "        print(f\"{val_to_remove} is removed\")\n",
    "    else:\n",
    "        print(f\"{val_to_remove} is not found\")\n",
    "        \n",
    "safe_remove(\"The Hero\")\n",
    "\n"
   ]
  },
  {
   "cell_type": "code",
   "execution_count": 53,
   "metadata": {},
   "outputs": [
    {
     "data": {
      "text/plain": [
       "[]"
      ]
     },
     "execution_count": 53,
     "metadata": {},
     "output_type": "execute_result"
    }
   ],
   "source": [
    "# pop()\n",
    "# books.pop()\n",
    "# books\n",
    "\n",
    "# books.pop(0)  #remove element at index 1\n",
    "# books"
   ]
  },
  {
   "cell_type": "code",
   "execution_count": 54,
   "metadata": {},
   "outputs": [],
   "source": [
    "books.clear()"
   ]
  },
  {
   "cell_type": "code",
   "execution_count": null,
   "metadata": {},
   "outputs": [],
   "source": []
  }
 ],
 "metadata": {
  "kernelspec": {
   "display_name": "base",
   "language": "python",
   "name": "python3"
  },
  "language_info": {
   "codemirror_mode": {
    "name": "ipython",
    "version": 3
   },
   "file_extension": ".py",
   "mimetype": "text/x-python",
   "name": "python",
   "nbconvert_exporter": "python",
   "pygments_lexer": "ipython3",
   "version": "3.11.4"
  },
  "orig_nbformat": 4
 },
 "nbformat": 4,
 "nbformat_minor": 2
}
