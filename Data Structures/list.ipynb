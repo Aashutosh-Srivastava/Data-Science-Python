{
 "cells": [
  {
   "cell_type": "markdown",
   "metadata": {},
   "source": [
    "## List Data Structure in Python\n",
    "- creating\n",
    "- indexing\n",
    "- slicing\n",
    "- methods\n",
    "- basics operations\n",
    "- comprehension"
   ]
  },
  {
   "cell_type": "code",
   "execution_count": 1,
   "metadata": {},
   "outputs": [],
   "source": [
    "X = []   #Empty List\n",
    "a = [1,2,3,4]    #numbered list\n",
    "b = [\"alex\",'alexa']  #alphabetical list\n",
    "c = [\"alexa\",34,5,\"alex\"] #mixed list\n",
    "d = [[1,2],[3,4],[4,5]]  #nested list\n"
   ]
  },
  {
   "cell_type": "code",
   "execution_count": 2,
   "metadata": {},
   "outputs": [
    {
     "name": "stdout",
     "output_type": "stream",
     "text": [
      "[1, 1, 1, 1, 1, 1, 1, 1, 1, 1]\n"
     ]
    }
   ],
   "source": [
    "w = [1]*10 #List Duplication\n",
    "print(w)"
   ]
  },
  {
   "cell_type": "code",
   "execution_count": 6,
   "metadata": {},
   "outputs": [
    {
     "name": "stdout",
     "output_type": "stream",
     "text": [
      "[1, 3, 5, 7, 9, 2, 4, 6, 8]\n",
      "[[1, 2, 3, 4], ['alex', 'alexa']]\n"
     ]
    }
   ],
   "source": [
    "L1 = [1,3,5,7,9]\n",
    "L2 = [2,4,6,8]\n",
    "\n",
    "L3 = L1+L2   #List Concatenation\n",
    "print(L3)\n",
    "\n",
    "D = [a,b] #nested List\n",
    "print(D)"
   ]
  },
  {
   "cell_type": "code",
   "execution_count": 12,
   "metadata": {},
   "outputs": [
    {
     "name": "stdout",
     "output_type": "stream",
     "text": [
      "[1, 2, 3]\n",
      "[7, 6, 5, 4, 3, 2, 1]\n",
      "[3, 4]\n",
      "[7, 5]\n",
      "[1, 3, 5, 7]\n",
      "2\n",
      "7\n"
     ]
    }
   ],
   "source": [
    "x = [1,2,3,4,5,6,7]\n",
    "print(x[:3])\n",
    "print(x[::-1])\n",
    "print(x[2:4])\n",
    "print(x[:3:-2])\n",
    "print(x[::2])\n",
    "print(x[1])\n",
    "print(x[-1])\n"
   ]
  },
  {
   "cell_type": "code",
   "execution_count": 16,
   "metadata": {},
   "outputs": [
    {
     "name": "stdout",
     "output_type": "stream",
     "text": [
      "1 2 3 4 5 6 7 "
     ]
    }
   ],
   "source": [
    "#Traversal\n",
    "for i in x:\n",
    "    print(i,end= \" \")"
   ]
  },
  {
   "cell_type": "markdown",
   "metadata": {},
   "source": [
    "### Methods\n",
    "- add\n",
    "   - append\n",
    "   - extend\n",
    "   - insert\n",
    "- remove\n",
    "   - remove\n",
    "   - pop\n",
    "   - clear\n",
    "- helper\n",
    "   - index\n",
    "   - count\n",
    "   - sort\n",
    "   - reverse\n",
    "   - copy"
   ]
  },
  {
   "cell_type": "code",
   "execution_count": 29,
   "metadata": {},
   "outputs": [
    {
     "name": "stdout",
     "output_type": "stream",
     "text": [
      "['The final Empire', 'The Hero', 'Warbreaker']\n",
      "['The final Empire', 'Warbreaker', 'The Hero', 'Warbreaker']\n",
      "['The final Empire', 'Warbreaker', 'The Hero', 'Warbreaker', 'Twilight Saga', 'Power of subconsious mind', 'Thank you']\n"
     ]
    }
   ],
   "source": [
    "books = []\n",
    "books.append('The final Empire')  #append()\n",
    "books.append('The Hero')\n",
    "books.append('Warbreaker')\n",
    "print(books)\n",
    "\n",
    "books.insert(1, 'Warbreaker')     #insert()\n",
    "print(books)\n",
    "\n",
    "crappybooks = [\"Twilight Saga\", \"Power of subconsious mind\",'Thank you']\n",
    "books.extend(crappybooks)    #extend()\n",
    "print(books)"
   ]
  },
  {
   "cell_type": "code",
   "execution_count": 30,
   "metadata": {},
   "outputs": [
    {
     "name": "stdout",
     "output_type": "stream",
     "text": [
      "[1, 3, 5, 7, 2, 4, 6, 8]\n"
     ]
    }
   ],
   "source": [
    "nums = [1,3,5,7]\n",
    "more_nums = [2,4,6,8]\n",
    "nums.extend(more_nums)\n",
    "print(nums)"
   ]
  },
  {
   "cell_type": "code",
   "execution_count": 40,
   "metadata": {},
   "outputs": [
    {
     "name": "stdout",
     "output_type": "stream",
     "text": [
      "The sum is: 15\n",
      "[1, 3, 6, 10, 15]\n"
     ]
    }
   ],
   "source": [
    "# x= []\n",
    "# for i in range(5):\n",
    "#     ans = input(\"enter value\")\n",
    "#     x+= ans \n",
    "# print(x)\n",
    "\n",
    "x= []\n",
    "total= 0\n",
    "for i in range(5):\n",
    "    a = int(input(\"enter value\"))\n",
    "    total +=a\n",
    "    x.append(total)\n",
    "print(f\"The sum is: {total}\")    \n",
    "print(x)\n",
    "\n",
    "    \n",
    "    "
   ]
  },
  {
   "cell_type": "code",
   "execution_count": 41,
   "metadata": {},
   "outputs": [
    {
     "data": {
      "text/plain": [
       "['The final Empire',\n",
       " 'Warbreaker',\n",
       " 'The Hero',\n",
       " 'Warbreaker',\n",
       " 'Twilight Saga',\n",
       " 'Power of subconsious mind',\n",
       " 'Thank you']"
      ]
     },
     "execution_count": 41,
     "metadata": {},
     "output_type": "execute_result"
    }
   ],
   "source": [
    "books"
   ]
  },
  {
   "cell_type": "code",
   "execution_count": 45,
   "metadata": {},
   "outputs": [
    {
     "name": "stdout",
     "output_type": "stream",
     "text": [
      "The Hero is removed\n"
     ]
    }
   ],
   "source": [
    "#remove()\n",
    "\n",
    "# books.remove(\"Warbreaker\")\n",
    "# books\n",
    "\n",
    "def safe_remove(val_to_remove):\n",
    "    if val_to_remove in books:\n",
    "        books.remove(val_to_remove)\n",
    "        print(f\"{val_to_remove} is removed\")\n",
    "    else:\n",
    "        print(f\"{val_to_remove} is not found\")\n",
    "        \n",
    "safe_remove(\"The Hero\")\n",
    "\n"
   ]
  },
  {
   "cell_type": "code",
   "execution_count": 53,
   "metadata": {},
   "outputs": [
    {
     "data": {
      "text/plain": [
       "[]"
      ]
     },
     "execution_count": 53,
     "metadata": {},
     "output_type": "execute_result"
    }
   ],
   "source": [
    "# pop()\n",
    "# books.pop()\n",
    "# books\n",
    "\n",
    "# books.pop(0)  #remove element at index 1\n",
    "# books"
   ]
  },
  {
   "cell_type": "code",
   "execution_count": 54,
   "metadata": {},
   "outputs": [],
   "source": [
    "books.clear()"
   ]
  },
  {
   "cell_type": "code",
   "execution_count": 3,
   "metadata": {},
   "outputs": [
    {
     "name": "stdout",
     "output_type": "stream",
     "text": [
      "2\n",
      "0\n",
      "0\n"
     ]
    }
   ],
   "source": [
    "x= ['a1','b2','a1']\n",
    "print(x.count('a1'))\n",
    "print(x.count('b1'))\n",
    "print(x.count('c1'))"
   ]
  },
  {
   "cell_type": "code",
   "execution_count": 10,
   "metadata": {},
   "outputs": [
    {
     "name": "stdout",
     "output_type": "stream",
     "text": [
      "None\n",
      "['a1', 'a1', 'b2']\n"
     ]
    }
   ],
   "source": [
    "# x.sort()\n",
    "# print(x)\n",
    "print(x.sort(reverse=True))\n",
    "\n",
    "\n",
    "x.reverse()\n",
    "print(x)"
   ]
  },
  {
   "cell_type": "code",
   "execution_count": 11,
   "metadata": {},
   "outputs": [
    {
     "name": "stdout",
     "output_type": "stream",
     "text": [
      "['app', 'apps', 'avacado']\n"
     ]
    }
   ],
   "source": [
    "L1 = ['app','apps','avacado']\n",
    "L1.sort(key = len)\n",
    "print(L1)"
   ]
  },
  {
   "cell_type": "code",
   "execution_count": 12,
   "metadata": {},
   "outputs": [
    {
     "data": {
      "text/plain": [
       "0"
      ]
     },
     "execution_count": 12,
     "metadata": {},
     "output_type": "execute_result"
    }
   ],
   "source": [
    "L1.index('app')\n",
    "# return index of the first occurence of element"
   ]
  },
  {
   "cell_type": "code",
   "execution_count": 16,
   "metadata": {},
   "outputs": [
    {
     "name": "stdout",
     "output_type": "stream",
     "text": [
      "['app', 'apps', 'avacado']\n",
      "['app', 'apps', 'avacado']\n"
     ]
    }
   ],
   "source": [
    "# l1_copy = L1   #copy by reference\n",
    "l1_copy = L1.copy()  #copy by value\n",
    "# print(L1)\n",
    "print(L1)\n",
    "print(l1_copy)\n"
   ]
  },
  {
   "cell_type": "code",
   "execution_count": 21,
   "metadata": {},
   "outputs": [
    {
     "name": "stdout",
     "output_type": "stream",
     "text": [
      "[1, 2, 3, 4, 4] [1, 2, 3, 4, 4]\n"
     ]
    }
   ],
   "source": [
    "x = [1,2,3]\n",
    "y = x  #copy by reference\n",
    "x.append(4)\n",
    "y.append(4)\n",
    "print(x,y)\n"
   ]
  },
  {
   "cell_type": "code",
   "execution_count": 19,
   "metadata": {},
   "outputs": [
    {
     "name": "stdout",
     "output_type": "stream",
     "text": [
      "[1, 2, 3, 4] [1, 2, 3, 5]\n"
     ]
    }
   ],
   "source": [
    "x = [1,2,3]\n",
    "y = x.copy()  #copy by value\n",
    "x.append(4)\n",
    "y.append(5)\n",
    "print(x,y)\n"
   ]
  },
  {
   "cell_type": "code",
   "execution_count": 22,
   "metadata": {},
   "outputs": [
    {
     "name": "stdout",
     "output_type": "stream",
     "text": [
      "[1, 4, 9, 16]\n"
     ]
    }
   ],
   "source": [
    "#generating a list of number from existing number\n",
    "\n",
    "x = [1,2,3,4]\n",
    "x2 = []\n",
    "for i in x:\n",
    "    ans_sq = i*i\n",
    "    x2.append(ans_sq)\n",
    "print(x2)"
   ]
  },
  {
   "cell_type": "markdown",
   "metadata": {},
   "source": [
    "### List comprehension\n",
    "\n",
    "syntax\n",
    "```\n",
    "new_list = [operation for item in list] \n",
    "\n",
    "```\n",
    "syntax\n",
    "```\n",
    "new_list = [operation for item in list if expression] \n",
    "\n",
    "```\n",
    "\n"
   ]
  },
  {
   "cell_type": "code",
   "execution_count": 25,
   "metadata": {},
   "outputs": [
    {
     "name": "stdout",
     "output_type": "stream",
     "text": [
      "[1, 4, 9, 16]\n"
     ]
    }
   ],
   "source": [
    "#List comprehension\n",
    "\n",
    "x = [1,2,3,4]\n",
    "x2 = [i**2 for i in x] \n",
    "print(x2)"
   ]
  },
  {
   "cell_type": "code",
   "execution_count": 29,
   "metadata": {},
   "outputs": [
    {
     "name": "stdout",
     "output_type": "stream",
     "text": [
      "[1, 2, 3, 4, 5, 6, 7, 8, 9]\n",
      "[1, 3, 5, 7, 9]\n"
     ]
    }
   ],
   "source": [
    "a = [1,2,3,4,5,6,7,8,9]\n",
    "a1 = [i for i in a if i%2!=0]\n",
    "print(a)\n",
    "print(a1)"
   ]
  },
  {
   "cell_type": "code",
   "execution_count": 30,
   "metadata": {},
   "outputs": [
    {
     "name": "stdout",
     "output_type": "stream",
     "text": [
      "[8, 64]\n"
     ]
    }
   ],
   "source": [
    "x = [1,2,3,4]\n",
    "x2 = [i**3 for i in x if i%2==0] \n",
    "print(x2)"
   ]
  },
  {
   "cell_type": "code",
   "execution_count": 1,
   "metadata": {},
   "outputs": [
    {
     "name": "stdout",
     "output_type": "stream",
     "text": [
      "4\n"
     ]
    }
   ],
   "source": [
    "print(len([1,2,3,4]))"
   ]
  },
  {
   "cell_type": "code",
   "execution_count": 4,
   "metadata": {},
   "outputs": [
    {
     "data": {
      "text/plain": [
       "5"
      ]
     },
     "execution_count": 4,
     "metadata": {},
     "output_type": "execute_result"
    }
   ],
   "source": [
    "round(4.576)"
   ]
  },
  {
   "cell_type": "code",
   "execution_count": 5,
   "metadata": {},
   "outputs": [
    {
     "name": "stdout",
     "output_type": "stream",
     "text": [
      "3\n",
      "4\n"
     ]
    }
   ],
   "source": [
    "x = 2\n",
    "for i in range(x):\n",
    "    x+=1\n",
    "    print(x)"
   ]
  },
  {
   "cell_type": "code",
   "execution_count": 9,
   "metadata": {},
   "outputs": [
    {
     "ename": "TypeError",
     "evalue": "'float' object cannot be interpreted as an integer",
     "output_type": "error",
     "traceback": [
      "\u001b[1;31m---------------------------------------------------------------------------\u001b[0m",
      "\u001b[1;31mTypeError\u001b[0m                                 Traceback (most recent call last)",
      "\u001b[1;32md:\\Data Science Python\\Data Structures\\list.ipynb Cell 30\u001b[0m line \u001b[0;36m1\n\u001b[1;32m----> <a href='vscode-notebook-cell:/d%3A/Data%20Science%20Python/Data%20Structures/list.ipynb#X42sZmlsZQ%3D%3D?line=0'>1</a>\u001b[0m \u001b[39mfor\u001b[39;00m i \u001b[39min\u001b[39;00m \u001b[39mrange\u001b[39m(\u001b[39m2.0\u001b[39m):\n\u001b[0;32m      <a href='vscode-notebook-cell:/d%3A/Data%20Science%20Python/Data%20Structures/list.ipynb#X42sZmlsZQ%3D%3D?line=1'>2</a>\u001b[0m     \u001b[39mprint\u001b[39m(i)\n",
      "\u001b[1;31mTypeError\u001b[0m: 'float' object cannot be interpreted as an integer"
     ]
    }
   ],
   "source": [
    "for i in range(2.0):\n",
    "    print(i)"
   ]
  },
  {
   "cell_type": "code",
   "execution_count": 10,
   "metadata": {},
   "outputs": [
    {
     "name": "stdout",
     "output_type": "stream",
     "text": [
      "4\n"
     ]
    }
   ],
   "source": [
    "print(9//2)"
   ]
  },
  {
   "cell_type": "code",
   "execution_count": 3,
   "metadata": {},
   "outputs": [
    {
     "name": "stdout",
     "output_type": "stream",
     "text": [
      "[[2, [1, 2]], [3, [1, 3]], [4, [1, 2, 4]]]\n"
     ]
    }
   ],
   "source": [
    "inp = [2,3,4]\n",
    "out = []\n",
    "for i in inp:\n",
    "    divisors = []\n",
    "    for j in range(1,i+1):\n",
    "        if i%j==0:\n",
    "            divisors.append(j)\n",
    "    out.append([i,divisors])\n",
    "print(out)\n",
    "        \n",
    "    \n",
    "    "
   ]
  },
  {
   "cell_type": "code",
   "execution_count": null,
   "metadata": {},
   "outputs": [],
   "source": []
  }
 ],
 "metadata": {
  "kernelspec": {
   "display_name": "base",
   "language": "python",
   "name": "python3"
  },
  "language_info": {
   "codemirror_mode": {
    "name": "ipython",
    "version": 3
   },
   "file_extension": ".py",
   "mimetype": "text/x-python",
   "name": "python",
   "nbconvert_exporter": "python",
   "pygments_lexer": "ipython3",
   "version": "3.11.4"
  },
  "orig_nbformat": 4
 },
 "nbformat": 4,
 "nbformat_minor": 2
}
